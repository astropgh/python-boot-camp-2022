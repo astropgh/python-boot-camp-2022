{
 "cells": [
  {
   "cell_type": "markdown",
   "metadata": {},
   "source": [
    "# Data Structures\n",
    "\n",
    "Like any programming language, Python uses several built-in data structures (a.k.a. types), which store numbers, text, and other information needed to perform any computation. Every data type has its own set of instructions to parse 1s and 0s from your computer's memory into human-readable information."
   ]
  },
  {
   "cell_type": "markdown",
   "metadata": {},
   "source": [
    "## Overview of Python types covered in this tutorial:\n",
    "\n",
    "- `int` (integer)\n",
    "- `float` (floating point number)\n",
    "- `complex` (complex-valued floating point number)\n",
    "- `bool` (boolean)\n",
    "- `str` (string)\n",
    "- `list`\n",
    "- `np.ndarray` (third-party, not a builtin Python type)\n",
    "- `tuple`\n",
    "- `dict` (dictionary)\n",
    "- `set`\n",
    "- `object` (base Python type)\n",
    "- Types you will learn about in future lessons:\n",
    "    - `function`\n",
    "    - `module`\n",
    "    - Other third-party types from modules like `numpy`, `pandas`, `matplotlib`\n",
    "    - Custom types built using a `class` declaration"
   ]
  },
  {
   "cell_type": "markdown",
   "metadata": {},
   "source": [
    "## Numeric types"
   ]
  },
  {
   "cell_type": "markdown",
   "metadata": {
    "slideshow": {
     "slide_type": "slide"
    }
   },
   "source": [
    "The basic data numeric types (`int` and `float`) are similar to those found in other languages\n",
    "\n",
    "**Integers (``int``)**\n",
    "\n",
    "![texte](https://www.electronics-tutorials.ws/wp-content/uploads/2018/05/binary-bin7.gif)\n",
    "\n",
    "Note: In other languages, you have to be more careful with memory allocation depending on how large of a number you want to be able to represent (for example, this example 8-bit integer has a maximum value of $2^7 - 1 = 127$). Fortunately, Python ints store meta-data, which  their memory allocation, so they have no such limit. This is an example of how Python is *smart*, but not *fast*."
   ]
  },
  {
   "cell_type": "code",
   "execution_count": null,
   "metadata": {
    "ExecuteTime": {
     "end_time": "2022-05-21T21:12:35.782544Z",
     "start_time": "2022-05-21T21:12:35.777741Z"
    },
    "slideshow": {
     "slide_type": "-"
    }
   },
   "outputs": [],
   "source": [
    "i = 0\n",
    "j = -52\n",
    "k = 10 ** 1000"
   ]
  },
  {
   "cell_type": "code",
   "execution_count": null,
   "metadata": {
    "ExecuteTime": {
     "end_time": "2022-05-21T21:12:51.032714Z",
     "start_time": "2022-05-21T21:12:51.028200Z"
    }
   },
   "outputs": [],
   "source": [
    "print(i, j, k)"
   ]
  },
  {
   "cell_type": "code",
   "execution_count": null,
   "metadata": {
    "ExecuteTime": {
     "end_time": "2022-05-21T21:14:08.875974Z",
     "start_time": "2022-05-21T21:14:08.870440Z"
    }
   },
   "outputs": [],
   "source": [
    "# Print number of bytes allocated (this method works for any Python object)\n",
    "print(i.__sizeof__())\n",
    "print(j.__sizeof__())\n",
    "print(k.__sizeof__())"
   ]
  },
  {
   "cell_type": "markdown",
   "metadata": {},
   "source": [
    "However, don't get used to using extremely large numbers like $10^{1000}$. For any real computation, you will likely use third-party packages like NumPy, which defines its own integer types: `np.int32` and `np.int64`, which have maximum values of $\\sim2 \\times 10^9$ and $\\sim9 \\times 10^{18}$, respectively."
   ]
  },
  {
   "cell_type": "markdown",
   "metadata": {
    "slideshow": {
     "slide_type": "slide"
    }
   },
   "source": [
    "**Floating point values (``float``)**\n",
    "\n",
    "Numbers are stored in scientific notation, using base 2 instead of base 10\n",
    "\n",
    "![texte](https://encrypted-tbn0.gstatic.com/images?q=tbn:ANd9GcTuIgrptQHHvbqeF7sZ3YqctSdt1mKZJEiWLg&usqp=CAU)\n",
    "![texte](https://media.geeksforgeeks.org/wp-content/uploads/Single-Precision-IEEE-754-Floating-Point-Standard.jpg)\n",
    "\n",
    "Unlike ints, Python floats do not change their memory allocation. They are always 64-bits (a.k.a. double precision)"
   ]
  },
  {
   "cell_type": "code",
   "execution_count": null,
   "metadata": {
    "ExecuteTime": {
     "end_time": "2022-05-21T21:19:40.755299Z",
     "start_time": "2022-05-21T21:19:40.751265Z"
    },
    "slideshow": {
     "slide_type": "-"
    }
   },
   "outputs": [],
   "source": [
    "a = 4.3\n",
    "b = -5.2111222\n",
    "under_max_float = 1.79e308\n",
    "over_max_float = 1.80e308  # = 2^1024 (too large for Python float)"
   ]
  },
  {
   "cell_type": "code",
   "execution_count": null,
   "metadata": {
    "ExecuteTime": {
     "end_time": "2022-05-21T21:19:43.247519Z",
     "start_time": "2022-05-21T21:19:43.243978Z"
    }
   },
   "outputs": [],
   "source": [
    "print(a, b, under_max_float, over_max_float)"
   ]
  },
  {
   "cell_type": "markdown",
   "metadata": {
    "slideshow": {
     "slide_type": "slide"
    }
   },
   "source": [
    "**Complex values (``complex``)**"
   ]
  },
  {
   "cell_type": "code",
   "execution_count": null,
   "metadata": {
    "ExecuteTime": {
     "end_time": "2022-05-21T21:22:43.474183Z",
     "start_time": "2022-05-21T21:22:43.469763Z"
    }
   },
   "outputs": [],
   "source": [
    "d = 4 - 1j"
   ]
  },
  {
   "cell_type": "code",
   "execution_count": null,
   "metadata": {
    "ExecuteTime": {
     "end_time": "2022-05-21T21:22:43.629930Z",
     "start_time": "2022-05-21T21:22:43.626763Z"
    }
   },
   "outputs": [],
   "source": [
    "print(d)"
   ]
  },
  {
   "cell_type": "markdown",
   "metadata": {
    "slideshow": {
     "slide_type": "slide"
    }
   },
   "source": [
    "Manipulating these behaves the way you would expect, so an operation (``+``, ``-``, ``*``, ``**``, etc.) on two values of the same type produces another value of the same type (with one, exception, ``/``, see below), while an operation on two values with different types produces a value of the more 'advanced' type:"
   ]
  },
  {
   "cell_type": "markdown",
   "metadata": {
    "slideshow": {
     "slide_type": "slide"
    }
   },
   "source": [
    "Adding two integers gives an integer:"
   ]
  },
  {
   "cell_type": "code",
   "execution_count": null,
   "metadata": {
    "ExecuteTime": {
     "end_time": "2022-05-21T21:21:56.918616Z",
     "start_time": "2022-05-21T21:21:56.908316Z"
    }
   },
   "outputs": [],
   "source": [
    "1 + 3"
   ]
  },
  {
   "cell_type": "markdown",
   "metadata": {
    "slideshow": {
     "slide_type": "slide"
    }
   },
   "source": [
    "Multiplying two floats gives a float:"
   ]
  },
  {
   "cell_type": "code",
   "execution_count": null,
   "metadata": {
    "ExecuteTime": {
     "end_time": "2022-05-21T21:22:04.330771Z",
     "start_time": "2022-05-21T21:22:04.327008Z"
    }
   },
   "outputs": [],
   "source": [
    "3. * 2."
   ]
  },
  {
   "cell_type": "markdown",
   "metadata": {
    "slideshow": {
     "slide_type": "slide"
    }
   },
   "source": [
    "Subtracting two complex numbers gives a complex number:"
   ]
  },
  {
   "cell_type": "code",
   "execution_count": null,
   "metadata": {
    "ExecuteTime": {
     "end_time": "2022-05-21T21:22:10.483475Z",
     "start_time": "2022-05-21T21:22:10.477771Z"
    }
   },
   "outputs": [],
   "source": [
    "(2 + 4j) - (1 + 6j)"
   ]
  },
  {
   "cell_type": "markdown",
   "metadata": {
    "slideshow": {
     "slide_type": "slide"
    }
   },
   "source": [
    "Multiplying an integer with a float gives a float:"
   ]
  },
  {
   "cell_type": "code",
   "execution_count": null,
   "metadata": {
    "ExecuteTime": {
     "end_time": "2022-05-21T21:22:17.835622Z",
     "start_time": "2022-05-21T21:22:17.831354Z"
    }
   },
   "outputs": [],
   "source": [
    "3 * 9.2"
   ]
  },
  {
   "cell_type": "markdown",
   "metadata": {
    "slideshow": {
     "slide_type": "slide"
    }
   },
   "source": [
    "Multiplying a float with a complex number gives a complex number:"
   ]
  },
  {
   "cell_type": "code",
   "execution_count": null,
   "metadata": {
    "ExecuteTime": {
     "end_time": "2022-05-21T21:22:52.403405Z",
     "start_time": "2022-05-21T21:22:52.397714Z"
    }
   },
   "outputs": [],
   "source": [
    "2. * (-1 + 3j)"
   ]
  },
  {
   "cell_type": "markdown",
   "metadata": {
    "slideshow": {
     "slide_type": "slide"
    }
   },
   "source": [
    "Multiplying an integer and a complex number gives a complex number:"
   ]
  },
  {
   "cell_type": "code",
   "execution_count": null,
   "metadata": {
    "ExecuteTime": {
     "end_time": "2022-05-21T21:23:06.616694Z",
     "start_time": "2022-05-21T21:23:06.611821Z"
    }
   },
   "outputs": [],
   "source": [
    "8 * (-3.3 + 1j)"
   ]
  },
  {
   "cell_type": "markdown",
   "metadata": {
    "slideshow": {
     "slide_type": "slide"
    }
   },
   "source": [
    "Most integer operations return another integer. <br>However, the division of two integers gives a float:"
   ]
  },
  {
   "cell_type": "code",
   "execution_count": null,
   "metadata": {
    "ExecuteTime": {
     "end_time": "2022-05-21T21:24:01.189752Z",
     "start_time": "2022-05-21T21:24:01.184688Z"
    }
   },
   "outputs": [],
   "source": [
    "print(3 + 2)\n",
    "print(3 - 2)\n",
    "print(3 * 2)\n",
    "print(3 / 2)"
   ]
  },
  {
   "cell_type": "markdown",
   "metadata": {},
   "source": [
    "Note that in Python 2.x, this used to return ``1``, not ``1.5`` because integer division rounds the answer down. If you ever need to work with Python 2 code, the safest approach is to add the following line at the top of the script:\n",
    "\n",
    "    from __future__ import division\n",
    "    \n",
    "and the division will then behave like a Python 3 division. Note that in Python 3 (and in Python 2 when using the ``__future__`` import) you can also perform integer division:"
   ]
  },
  {
   "cell_type": "code",
   "execution_count": null,
   "metadata": {
    "ExecuteTime": {
     "end_time": "2022-05-21T21:25:25.133590Z",
     "start_time": "2022-05-21T21:25:25.126983Z"
    }
   },
   "outputs": [],
   "source": [
    "3 // 2"
   ]
  },
  {
   "cell_type": "markdown",
   "metadata": {},
   "source": [
    "## Exercise 1"
   ]
  },
  {
   "cell_type": "markdown",
   "metadata": {},
   "source": [
    "The operator for raising one value to the power of another is ``**``. Try calculating $4^3$, $2+3.4^2$, $(1 + i)^2$, and $(1 + i)^4$. What is the type of the output in each case, and does it make sense?"
   ]
  },
  {
   "cell_type": "code",
   "execution_count": null,
   "metadata": {
    "ExecuteTime": {
     "end_time": "2022-05-21T21:27:42.676237Z",
     "start_time": "2022-05-21T21:27:42.673920Z"
    }
   },
   "outputs": [],
   "source": [
    "# Enter your solutions here\n"
   ]
  },
  {
   "cell_type": "code",
   "execution_count": null,
   "metadata": {
    "ExecuteTime": {
     "end_time": "2022-05-18T07:17:22.656585Z",
     "start_time": "2022-05-18T07:17:22.649931Z"
    }
   },
   "outputs": [],
   "source": []
  },
  {
   "cell_type": "code",
   "execution_count": null,
   "metadata": {
    "ExecuteTime": {
     "end_time": "2022-05-20T00:24:17.963043Z",
     "start_time": "2022-05-20T00:24:17.959021Z"
    }
   },
   "outputs": [],
   "source": []
  },
  {
   "cell_type": "code",
   "execution_count": null,
   "metadata": {
    "ExecuteTime": {
     "end_time": "2022-05-20T00:24:23.229937Z",
     "start_time": "2022-05-20T00:24:23.221933Z"
    }
   },
   "outputs": [],
   "source": []
  },
  {
   "cell_type": "markdown",
   "metadata": {},
   "source": [
    "## Booleans\n",
    "\n",
    "The boolean data type can only store two values: `True` or `False`. These are useful for making logical decisions in your code (remember to always capitalize the `T` and `F`)"
   ]
  },
  {
   "cell_type": "code",
   "execution_count": null,
   "metadata": {
    "ExecuteTime": {
     "end_time": "2022-05-21T21:29:23.835119Z",
     "start_time": "2022-05-21T21:29:23.831541Z"
    }
   },
   "outputs": [],
   "source": [
    "a = True\n",
    "b = False"
   ]
  },
  {
   "cell_type": "code",
   "execution_count": null,
   "metadata": {
    "ExecuteTime": {
     "end_time": "2022-05-21T21:29:24.878613Z",
     "start_time": "2022-05-21T21:29:24.873754Z"
    }
   },
   "outputs": [],
   "source": [
    "print(int(a), int(b))\n",
    "print(a.__sizeof__(), b.__sizeof__())"
   ]
  },
  {
   "cell_type": "code",
   "execution_count": null,
   "metadata": {
    "ExecuteTime": {
     "end_time": "2022-05-21T21:31:57.093283Z",
     "start_time": "2022-05-21T21:31:57.088156Z"
    }
   },
   "outputs": [],
   "source": [
    "# Booleans inherit all methods/operations available to ints\n",
    "print(True + True - (True * False))\n",
    "print(True / True)"
   ]
  },
  {
   "cell_type": "markdown",
   "metadata": {},
   "source": [
    "The logical operator keywords `not`, `or`, and `and` take boolean input(s) and return a new boolean"
   ]
  },
  {
   "cell_type": "code",
   "execution_count": null,
   "metadata": {
    "ExecuteTime": {
     "end_time": "2022-05-21T21:33:33.495953Z",
     "start_time": "2022-05-21T21:33:33.488469Z"
    }
   },
   "outputs": [],
   "source": [
    "print(not a)\n",
    "print(not b)"
   ]
  },
  {
   "cell_type": "code",
   "execution_count": null,
   "metadata": {
    "ExecuteTime": {
     "end_time": "2022-05-21T21:34:11.101869Z",
     "start_time": "2022-05-21T21:34:11.096340Z"
    }
   },
   "outputs": [],
   "source": [
    "print(a and b)\n",
    "print(a or b)"
   ]
  },
  {
   "cell_type": "code",
   "execution_count": null,
   "metadata": {
    "ExecuteTime": {
     "end_time": "2022-05-21T21:34:15.778502Z",
     "start_time": "2022-05-21T21:34:15.771813Z"
    }
   },
   "outputs": [],
   "source": [
    "(b and (a or b)) or (b and a)"
   ]
  },
  {
   "cell_type": "code",
   "execution_count": null,
   "metadata": {
    "ExecuteTime": {
     "end_time": "2022-05-21T21:34:38.050959Z",
     "start_time": "2022-05-21T21:34:38.044981Z"
    }
   },
   "outputs": [],
   "source": [
    "(False and (True or False) or (False and True))"
   ]
  },
  {
   "cell_type": "code",
   "execution_count": null,
   "metadata": {
    "ExecuteTime": {
     "end_time": "2022-05-21T21:35:34.828146Z",
     "start_time": "2022-05-21T21:35:34.822529Z"
    }
   },
   "outputs": [],
   "source": [
    "if b:\n",
    "    print(\"This code executes if condition b is True\")\n",
    "elif not a:\n",
    "    print(\"This code executes if conditions a and b are both False\")\n",
    "else:\n",
    "    assert a\n",
    "    assert not b\n",
    "    print(\"This code executes if a is True and b is False\")"
   ]
  },
  {
   "cell_type": "markdown",
   "metadata": {},
   "source": [
    "Standard comparison operators can also produce booleans:"
   ]
  },
  {
   "cell_type": "code",
   "execution_count": null,
   "metadata": {
    "ExecuteTime": {
     "end_time": "2022-05-21T21:37:21.119142Z",
     "start_time": "2022-05-21T21:37:21.114122Z"
    }
   },
   "outputs": [],
   "source": [
    "1 == 3"
   ]
  },
  {
   "cell_type": "code",
   "execution_count": null,
   "metadata": {
    "ExecuteTime": {
     "end_time": "2022-05-21T21:37:28.632939Z",
     "start_time": "2022-05-21T21:37:28.629837Z"
    }
   },
   "outputs": [],
   "source": [
    "1 != 3"
   ]
  },
  {
   "cell_type": "code",
   "execution_count": null,
   "metadata": {
    "ExecuteTime": {
     "end_time": "2022-05-21T21:37:40.884448Z",
     "start_time": "2022-05-21T21:37:40.878912Z"
    }
   },
   "outputs": [],
   "source": [
    "3 > 2"
   ]
  },
  {
   "cell_type": "code",
   "execution_count": null,
   "metadata": {
    "ExecuteTime": {
     "end_time": "2022-05-21T21:37:45.995966Z",
     "start_time": "2022-05-21T21:37:45.991271Z"
    }
   },
   "outputs": [],
   "source": [
    "3 <= 3.4"
   ]
  },
  {
   "cell_type": "markdown",
   "metadata": {
    "ExecuteTime": {
     "end_time": "2022-05-18T07:50:20.160553Z",
     "start_time": "2022-05-18T07:50:20.152659Z"
    }
   },
   "source": [
    "Various other functions may also return booleans. Here is a useful builtin function for checking if a variable is the type you were expecting: `isinstance()`"
   ]
  },
  {
   "cell_type": "code",
   "execution_count": null,
   "metadata": {
    "ExecuteTime": {
     "end_time": "2022-05-21T21:40:06.623280Z",
     "start_time": "2022-05-21T21:40:06.618325Z"
    }
   },
   "outputs": [],
   "source": [
    "x = 1.0\n",
    "if isinstance(x, int):\n",
    "    print(\"x is an int\")\n",
    "elif isinstance(x, float):\n",
    "    print(\"x is a float\")\n",
    "else:\n",
    "    print(\"x is a\", type(x))"
   ]
  },
  {
   "cell_type": "code",
   "execution_count": null,
   "metadata": {
    "ExecuteTime": {
     "end_time": "2022-05-21T21:40:28.751913Z",
     "start_time": "2022-05-21T21:40:28.745886Z"
    }
   },
   "outputs": [],
   "source": [
    "# Note, objects can be instances of multiple classes simultaneously\n",
    "# For example, all objects are instances of the \"object\" class\n",
    "print(isinstance(x, float))\n",
    "print(isinstance(x, object))"
   ]
  },
  {
   "cell_type": "markdown",
   "metadata": {},
   "source": [
    "## Strings"
   ]
  },
  {
   "cell_type": "markdown",
   "metadata": {
    "slideshow": {
     "slide_type": "slide"
    }
   },
   "source": [
    "Strings (``str``) are sequences of characters:"
   ]
  },
  {
   "cell_type": "code",
   "execution_count": null,
   "metadata": {
    "ExecuteTime": {
     "end_time": "2022-05-21T21:42:08.236684Z",
     "start_time": "2022-05-21T21:42:08.232730Z"
    }
   },
   "outputs": [],
   "source": [
    "s = \"Spam egg spam spam\"\n",
    "print(s)"
   ]
  },
  {
   "cell_type": "markdown",
   "metadata": {
    "slideshow": {
     "slide_type": "slide"
    }
   },
   "source": [
    "You can use either single quotes (``'``), double quotes (``\"``), or triple quotes (``'''`` or ``\"\"\"``) to enclose a string (the last one is used for multi-line strings). To include single or double quotes inside a string, you can either use the opposite quote to enclose the string:\n"
   ]
  },
  {
   "cell_type": "code",
   "execution_count": null,
   "metadata": {
    "ExecuteTime": {
     "end_time": "2022-05-21T21:43:05.597553Z",
     "start_time": "2022-05-21T21:43:05.594176Z"
    },
    "slideshow": {
     "slide_type": "fragment"
    }
   },
   "outputs": [],
   "source": [
    "print(\"I'm\")"
   ]
  },
  {
   "cell_type": "code",
   "execution_count": null,
   "metadata": {
    "ExecuteTime": {
     "end_time": "2022-05-21T21:43:15.736584Z",
     "start_time": "2022-05-21T21:43:15.732312Z"
    },
    "slideshow": {
     "slide_type": "fragment"
    }
   },
   "outputs": [],
   "source": [
    "print('\"hello\"')"
   ]
  },
  {
   "cell_type": "markdown",
   "metadata": {
    "slideshow": {
     "slide_type": "fragment"
    }
   },
   "source": [
    "or you can *escape* them:"
   ]
  },
  {
   "cell_type": "code",
   "execution_count": null,
   "metadata": {
    "ExecuteTime": {
     "end_time": "2022-05-21T21:44:16.155824Z",
     "start_time": "2022-05-21T21:44:16.150917Z"
    },
    "slideshow": {
     "slide_type": "fragment"
    }
   },
   "outputs": [],
   "source": [
    "print('I\\'m')"
   ]
  },
  {
   "cell_type": "code",
   "execution_count": null,
   "metadata": {
    "ExecuteTime": {
     "end_time": "2022-05-21T21:44:21.639730Z",
     "start_time": "2022-05-21T21:44:21.636164Z"
    },
    "slideshow": {
     "slide_type": "fragment"
    }
   },
   "outputs": [],
   "source": [
    "print(\"\\\"hello\\\"\")"
   ]
  },
  {
   "cell_type": "markdown",
   "metadata": {
    "slideshow": {
     "slide_type": "slide"
    }
   },
   "source": [
    "You can access individual characters or chunks of characters using the item notation with square brackets``[]``:"
   ]
  },
  {
   "cell_type": "code",
   "execution_count": null,
   "metadata": {
    "ExecuteTime": {
     "end_time": "2022-05-21T21:44:33.958409Z",
     "start_time": "2022-05-21T21:44:33.952410Z"
    },
    "scrolled": true
   },
   "outputs": [],
   "source": [
    "s[5]"
   ]
  },
  {
   "cell_type": "markdown",
   "metadata": {},
   "source": [
    "Note that in Python, indexing is *zero-based*, which means that the first element in a list is zero:"
   ]
  },
  {
   "cell_type": "code",
   "execution_count": null,
   "metadata": {
    "ExecuteTime": {
     "end_time": "2022-05-21T21:45:53.744421Z",
     "start_time": "2022-05-21T21:45:53.740241Z"
    }
   },
   "outputs": [],
   "source": [
    "s[0]"
   ]
  },
  {
   "cell_type": "markdown",
   "metadata": {
    "slideshow": {
     "slide_type": "slide"
    }
   },
   "source": [
    "Strings are **immutable**, that is you cannot change the value of certain characters without creating a new string:"
   ]
  },
  {
   "cell_type": "code",
   "execution_count": null,
   "metadata": {
    "ExecuteTime": {
     "end_time": "2022-05-21T21:47:17.448608Z",
     "start_time": "2022-05-21T21:47:17.439383Z"
    }
   },
   "outputs": [],
   "source": [
    "s[5] = 'r'"
   ]
  },
  {
   "cell_type": "markdown",
   "metadata": {},
   "source": [
    "You can easily find the length of a string:"
   ]
  },
  {
   "cell_type": "code",
   "execution_count": null,
   "metadata": {
    "ExecuteTime": {
     "end_time": "2022-05-21T21:47:40.180680Z",
     "start_time": "2022-05-21T21:47:40.175801Z"
    }
   },
   "outputs": [],
   "source": [
    "len(s)"
   ]
  },
  {
   "cell_type": "markdown",
   "metadata": {
    "slideshow": {
     "slide_type": "slide"
    }
   },
   "source": [
    "and you can use the ``+`` operator to combine strings:"
   ]
  },
  {
   "cell_type": "code",
   "execution_count": null,
   "metadata": {
    "ExecuteTime": {
     "end_time": "2022-05-21T21:49:42.366341Z",
     "start_time": "2022-05-21T21:49:42.359479Z"
    }
   },
   "outputs": [],
   "source": [
    "\"hello,\" + \" \" + \"world! \" + s"
   ]
  },
  {
   "cell_type": "code",
   "execution_count": null,
   "metadata": {
    "ExecuteTime": {
     "end_time": "2022-05-21T21:50:16.026663Z",
     "start_time": "2022-05-21T21:50:16.021865Z"
    }
   },
   "outputs": [],
   "source": [
    "# string s has remained unchanged\n",
    "print(s)"
   ]
  },
  {
   "cell_type": "markdown",
   "metadata": {
    "slideshow": {
     "slide_type": "slide"
    }
   },
   "source": [
    "Finally, strings have many **methods** associated with them, here are a few examples:"
   ]
  },
  {
   "cell_type": "code",
   "execution_count": null,
   "metadata": {
    "ExecuteTime": {
     "end_time": "2022-05-21T21:51:07.706148Z",
     "start_time": "2022-05-21T21:51:07.700867Z"
    },
    "slideshow": {
     "slide_type": "fragment"
    }
   },
   "outputs": [],
   "source": [
    "print(s.upper())  # An uppercase version of the string\n",
    "print(s.lower())  # A lowercase version of the string\n",
    "print(s.swapcase())  # A swapped-case version of the string"
   ]
  },
  {
   "cell_type": "code",
   "execution_count": null,
   "metadata": {
    "ExecuteTime": {
     "end_time": "2022-05-21T21:51:44.488200Z",
     "start_time": "2022-05-21T21:51:44.483391Z"
    },
    "slideshow": {
     "slide_type": "fragment"
    }
   },
   "outputs": [],
   "source": [
    "s.index('egg')  # An integer giving the position of a sub-string"
   ]
  },
  {
   "cell_type": "code",
   "execution_count": null,
   "metadata": {
    "ExecuteTime": {
     "end_time": "2022-05-21T21:51:57.079910Z",
     "start_time": "2022-05-21T21:51:57.074478Z"
    },
    "scrolled": true,
    "slideshow": {
     "slide_type": "fragment"
    }
   },
   "outputs": [],
   "source": [
    "s.split()  # A list of strings, delimited by whitespace by default"
   ]
  },
  {
   "cell_type": "markdown",
   "metadata": {},
   "source": [
    "Since strings are immutable, `s` is guaranteed to remain unchanged after calling the previous methods."
   ]
  },
  {
   "cell_type": "code",
   "execution_count": null,
   "metadata": {
    "ExecuteTime": {
     "end_time": "2022-05-21T21:52:24.172957Z",
     "start_time": "2022-05-21T21:52:24.168048Z"
    }
   },
   "outputs": [],
   "source": [
    "s"
   ]
  },
  {
   "cell_type": "markdown",
   "metadata": {},
   "source": [
    "## Lists"
   ]
  },
  {
   "cell_type": "markdown",
   "metadata": {
    "slideshow": {
     "slide_type": "slide"
    }
   },
   "source": [
    "There are several kinds of ways of storing sequences of Python objects. The most common is to use the ``list`` data structure."
   ]
  },
  {
   "cell_type": "code",
   "execution_count": null,
   "metadata": {
    "ExecuteTime": {
     "end_time": "2022-05-21T21:54:40.625831Z",
     "start_time": "2022-05-21T21:54:40.623184Z"
    },
    "slideshow": {
     "slide_type": "fragment"
    }
   },
   "outputs": [],
   "source": [
    "li = [4, 5.5, \"spam\"]"
   ]
  },
  {
   "cell_type": "markdown",
   "metadata": {
    "slideshow": {
     "slide_type": "slide"
    }
   },
   "source": [
    "Accessing individual items is done like for strings"
   ]
  },
  {
   "cell_type": "code",
   "execution_count": null,
   "metadata": {
    "ExecuteTime": {
     "end_time": "2022-05-21T21:54:53.361338Z",
     "start_time": "2022-05-21T21:54:53.357876Z"
    },
    "slideshow": {
     "slide_type": "-"
    }
   },
   "outputs": [],
   "source": [
    "print(li[0])\n",
    "print(li[1])\n",
    "print(li[2])"
   ]
  },
  {
   "cell_type": "markdown",
   "metadata": {
    "slideshow": {
     "slide_type": "slide"
    }
   },
   "source": [
    "Values in a list *can* be changed because lists are **mutable**, and it is also possible to append or insert elements:"
   ]
  },
  {
   "cell_type": "code",
   "execution_count": null,
   "metadata": {
    "ExecuteTime": {
     "end_time": "2022-05-21T21:55:44.080904Z",
     "start_time": "2022-05-21T21:55:44.077789Z"
    },
    "slideshow": {
     "slide_type": "fragment"
    }
   },
   "outputs": [],
   "source": [
    "li[1] = -2.2"
   ]
  },
  {
   "cell_type": "code",
   "execution_count": null,
   "metadata": {
    "ExecuteTime": {
     "end_time": "2022-05-21T21:55:53.735634Z",
     "start_time": "2022-05-21T21:55:53.731099Z"
    },
    "slideshow": {
     "slide_type": "fragment"
    }
   },
   "outputs": [],
   "source": [
    "li"
   ]
  },
  {
   "cell_type": "code",
   "execution_count": null,
   "metadata": {
    "ExecuteTime": {
     "end_time": "2022-05-21T21:56:02.253623Z",
     "start_time": "2022-05-21T21:56:02.250600Z"
    },
    "slideshow": {
     "slide_type": "fragment"
    }
   },
   "outputs": [],
   "source": [
    "li.append(-3)"
   ]
  },
  {
   "cell_type": "code",
   "execution_count": null,
   "metadata": {
    "ExecuteTime": {
     "end_time": "2022-05-21T21:56:07.572711Z",
     "start_time": "2022-05-21T21:56:07.568440Z"
    },
    "slideshow": {
     "slide_type": "fragment"
    }
   },
   "outputs": [],
   "source": [
    "li"
   ]
  },
  {
   "cell_type": "code",
   "execution_count": null,
   "metadata": {
    "ExecuteTime": {
     "end_time": "2022-05-21T21:56:38.486181Z",
     "start_time": "2022-05-21T21:56:38.482968Z"
    },
    "slideshow": {
     "slide_type": "fragment"
    }
   },
   "outputs": [],
   "source": [
    "li.insert(1, 3.14)"
   ]
  },
  {
   "cell_type": "code",
   "execution_count": null,
   "metadata": {
    "ExecuteTime": {
     "end_time": "2022-05-21T21:56:39.178034Z",
     "start_time": "2022-05-21T21:56:39.171908Z"
    },
    "slideshow": {
     "slide_type": "fragment"
    }
   },
   "outputs": [],
   "source": [
    "li"
   ]
  },
  {
   "cell_type": "markdown",
   "metadata": {},
   "source": [
    "Similarly to strings, you can find the length of a list (the number of elements) with the ``len`` function:"
   ]
  },
  {
   "cell_type": "code",
   "execution_count": null,
   "metadata": {
    "ExecuteTime": {
     "end_time": "2022-05-21T21:58:34.153573Z",
     "start_time": "2022-05-21T21:58:34.150411Z"
    }
   },
   "outputs": [],
   "source": [
    "len([1,2,3,4,5])"
   ]
  },
  {
   "cell_type": "markdown",
   "metadata": {},
   "source": [
    "## Slicing"
   ]
  },
  {
   "cell_type": "markdown",
   "metadata": {
    "slideshow": {
     "slide_type": "slide"
    }
   },
   "source": [
    "We already mentioned above that it is possible to access individual elements from a string or a list using the square bracket notation. You will also find this notation for other object types in Python, for example tuples or Numpy arrays, so it's worth spending a bit of time looking at this in more detail.\n",
    "\n",
    "In addition to using positive integers, where ``0`` is the first item, it is possible to access list items with *negative* indices, which counts from the end: ``-1`` is the last element, ``-2`` is the second to last, etc:"
   ]
  },
  {
   "cell_type": "code",
   "execution_count": null,
   "metadata": {
    "ExecuteTime": {
     "end_time": "2022-05-21T21:59:21.909336Z",
     "start_time": "2022-05-21T21:59:21.905892Z"
    }
   },
   "outputs": [],
   "source": [
    "li = [4, 67, 4, 2, 4, 6]"
   ]
  },
  {
   "cell_type": "code",
   "execution_count": null,
   "metadata": {
    "ExecuteTime": {
     "end_time": "2022-05-21T21:59:22.344413Z",
     "start_time": "2022-05-21T21:59:22.340435Z"
    }
   },
   "outputs": [],
   "source": [
    "li[-1]"
   ]
  },
  {
   "cell_type": "markdown",
   "metadata": {
    "slideshow": {
     "slide_type": "slide"
    }
   },
   "source": [
    "You can also select **slices** from a list with the ``start:end:step`` syntax. Be aware that the last element is *not* included!"
   ]
  },
  {
   "cell_type": "code",
   "execution_count": null,
   "metadata": {
    "ExecuteTime": {
     "end_time": "2022-05-21T22:00:21.438006Z",
     "start_time": "2022-05-21T22:00:21.432017Z"
    },
    "slideshow": {
     "slide_type": "fragment"
    }
   },
   "outputs": [],
   "source": [
    "li[0:2]"
   ]
  },
  {
   "cell_type": "code",
   "execution_count": null,
   "metadata": {
    "ExecuteTime": {
     "end_time": "2022-05-21T22:00:33.859558Z",
     "start_time": "2022-05-21T22:00:33.854829Z"
    },
    "slideshow": {
     "slide_type": "fragment"
    }
   },
   "outputs": [],
   "source": [
    "li[:2]  # ``start`` defaults to zero"
   ]
  },
  {
   "cell_type": "code",
   "execution_count": null,
   "metadata": {
    "ExecuteTime": {
     "end_time": "2022-05-21T22:00:55.174932Z",
     "start_time": "2022-05-21T22:00:55.170804Z"
    },
    "slideshow": {
     "slide_type": "fragment"
    }
   },
   "outputs": [],
   "source": [
    "li[2:]  # ``end`` defaults to the last element "
   ]
  },
  {
   "cell_type": "code",
   "execution_count": null,
   "metadata": {
    "ExecuteTime": {
     "end_time": "2022-05-21T22:02:02.136480Z",
     "start_time": "2022-05-21T22:02:02.132729Z"
    },
    "slideshow": {
     "slide_type": "fragment"
    }
   },
   "outputs": [],
   "source": [
    "li[::2]  # specify a step size"
   ]
  },
  {
   "cell_type": "markdown",
   "metadata": {},
   "source": [
    "## Exercise 2"
   ]
  },
  {
   "cell_type": "markdown",
   "metadata": {},
   "source": [
    "Given a string such as the one below, make a new string that does not contain the word ``egg``:"
   ]
  },
  {
   "cell_type": "code",
   "execution_count": null,
   "metadata": {
    "ExecuteTime": {
     "end_time": "2022-05-20T09:56:27.249190Z",
     "start_time": "2022-05-20T09:56:27.246205Z"
    }
   },
   "outputs": [],
   "source": [
    "a = \"Hello, egg world!\"\n",
    "\n",
    "# Enter your solution here\n"
   ]
  },
  {
   "cell_type": "markdown",
   "metadata": {},
   "source": [
    "Make your solution general enough to work with any string that contains the word ``egg`` once. Try changing the string above to see if your solution works."
   ]
  },
  {
   "cell_type": "markdown",
   "metadata": {},
   "source": [
    "## Python Lists vs. Numpy Arrays"
   ]
  },
  {
   "cell_type": "markdown",
   "metadata": {},
   "source": [
    "Later in this Python introduction we will discuss a module called numpy. Numpy has it's own way of storing sequences, which seems list-like. It is important to mention though that numpy arrays are not python lists, and python lists are not numpy arrays. This can often lead to running errors with certain codes that may need numpy arrays instead of python lists."
   ]
  },
  {
   "cell_type": "markdown",
   "metadata": {},
   "source": [
    "To convert a python list to a numpy array run the following code:"
   ]
  },
  {
   "cell_type": "code",
   "execution_count": null,
   "metadata": {
    "ExecuteTime": {
     "end_time": "2022-05-21T22:05:44.551191Z",
     "start_time": "2022-05-21T22:05:44.547395Z"
    }
   },
   "outputs": [],
   "source": [
    "import numpy as np\n",
    "\n",
    "ar = np.array(li)"
   ]
  },
  {
   "cell_type": "code",
   "execution_count": null,
   "metadata": {
    "ExecuteTime": {
     "end_time": "2022-05-21T22:05:52.841143Z",
     "start_time": "2022-05-21T22:05:52.835635Z"
    }
   },
   "outputs": [],
   "source": [
    "li"
   ]
  },
  {
   "cell_type": "code",
   "execution_count": null,
   "metadata": {
    "ExecuteTime": {
     "end_time": "2022-05-21T22:05:53.588906Z",
     "start_time": "2022-05-21T22:05:53.583783Z"
    }
   },
   "outputs": [],
   "source": [
    "ar"
   ]
  },
  {
   "cell_type": "markdown",
   "metadata": {},
   "source": [
    "This list and array store the same information, but their memory is allocated in very different ways (the array is one Python `object`, while the list is 6 separate objects, rounded up to the next power of 2, so it is actually allocates 8 objects). Depending on the use, one might be a more efficient choice than the other. Typically, Numpy arrays are more efficient for mathematical operations, but only if the length of the array remains constant. It is much more efficient to increase the length of a list (via the `append` method presented above). You should almost *never* use `numpy.append`, as it is *significantly* slower."
   ]
  },
  {
   "cell_type": "code",
   "execution_count": null,
   "metadata": {
    "ExecuteTime": {
     "end_time": "2022-05-21T22:10:10.037784Z",
     "start_time": "2022-05-21T22:10:10.032112Z"
    }
   },
   "outputs": [],
   "source": [
    "# Arrays are made for rapid element-wise mathematical operations\n",
    "# The same operations behave very differently on lists\n",
    "print(li * 2)\n",
    "print(ar * 2)"
   ]
  },
  {
   "cell_type": "code",
   "execution_count": null,
   "metadata": {
    "ExecuteTime": {
     "end_time": "2022-05-21T22:10:58.669074Z",
     "start_time": "2022-05-21T22:10:58.664764Z"
    }
   },
   "outputs": [],
   "source": [
    "type(ar)"
   ]
  },
  {
   "cell_type": "markdown",
   "metadata": {},
   "source": [
    "## Lists vs. Tuples"
   ]
  },
  {
   "cell_type": "markdown",
   "metadata": {},
   "source": [
    "In most cases, a tuple is used in exactly the same way as a list, storing a sequence of any length of Python objects. The only difference (besides *slightly* smaller memory allocation) is that it is **immutable**. Attempting to change any values of an existing tuple will raise a `TypeError`, and no methods exist to change its length (can't `append` for example). However, you can still concatenate two tuples via the `+` operator to create a new tuple"
   ]
  },
  {
   "cell_type": "code",
   "execution_count": null,
   "metadata": {
    "ExecuteTime": {
     "end_time": "2022-05-20T23:07:37.716542Z",
     "start_time": "2022-05-20T23:07:37.707558Z"
    }
   },
   "outputs": [],
   "source": [
    "# Three ways to construct a tuple:\n",
    "t1 = (1, True, \"Hello\")\n",
    "t2 = 2, False, \" \"\n",
    "t3 = tuple([3, True, \"world!\"])\n",
    "\n",
    "# The output below is a tuple too!\n",
    "type(t1), type(t2), type(t3)"
   ]
  },
  {
   "cell_type": "code",
   "execution_count": null,
   "metadata": {
    "ExecuteTime": {
     "end_time": "2022-05-20T23:08:36.915241Z",
     "start_time": "2022-05-20T23:08:36.900450Z"
    }
   },
   "outputs": [],
   "source": [
    "t2[1] = True"
   ]
  },
  {
   "cell_type": "code",
   "execution_count": null,
   "metadata": {
    "ExecuteTime": {
     "end_time": "2022-05-20T23:11:49.377609Z",
     "start_time": "2022-05-20T23:11:49.371114Z"
    }
   },
   "outputs": [],
   "source": [
    "# Neither original tuple is altered; a new tuple is constructed\n",
    "(1, 2, 3) + (4, 5)"
   ]
  },
  {
   "cell_type": "markdown",
   "metadata": {},
   "source": [
    "## Dictionaries"
   ]
  },
  {
   "cell_type": "markdown",
   "metadata": {},
   "source": [
    "A 'real' dictionary is a list of words, and for each word is a definition. Similarly, in Python, we can assign definitions (or **values**), to words (or **keys**)."
   ]
  },
  {
   "cell_type": "code",
   "execution_count": null,
   "metadata": {
    "ExecuteTime": {
     "end_time": "2022-05-21T00:13:07.037905Z",
     "start_time": "2022-05-21T00:13:07.031240Z"
    }
   },
   "outputs": [],
   "source": [
    "animal_ages = {\"cat\": 9, \"dog\": 15, \"sea turtle\": 150}\n",
    "keyword_arguments = dict(x=1, y=2, z=3)\n",
    "\n",
    "print(animal_ages)\n",
    "print(keyword_arguments)"
   ]
  },
  {
   "cell_type": "code",
   "execution_count": null,
   "metadata": {},
   "outputs": [],
   "source": []
  },
  {
   "cell_type": "markdown",
   "metadata": {},
   "source": [
    "Not impressed by the power of dictionaries yet? Every single variable you have assigned in this notebook is stored in a dictionary accessible by executing the `locals()` function. Is this useful to you? Probably not, but modern programming languages could not exist without this type of underlying data structure."
   ]
  },
  {
   "cell_type": "code",
   "execution_count": null,
   "metadata": {
    "ExecuteTime": {
     "end_time": "2022-05-20T23:51:30.923061Z",
     "start_time": "2022-05-20T23:51:30.920101Z"
    }
   },
   "outputs": [],
   "source": [
    "all_local_variables = locals()"
   ]
  },
  {
   "cell_type": "code",
   "execution_count": null,
   "metadata": {
    "ExecuteTime": {
     "end_time": "2022-05-20T23:51:37.815800Z",
     "start_time": "2022-05-20T23:51:37.809592Z"
    }
   },
   "outputs": [],
   "source": [
    "all_local_variables[\"animal_ages\"]"
   ]
  },
  {
   "cell_type": "code",
   "execution_count": null,
   "metadata": {
    "ExecuteTime": {
     "end_time": "2022-05-21T00:07:40.525968Z",
     "start_time": "2022-05-21T00:07:40.520197Z"
    }
   },
   "outputs": [],
   "source": [
    "all_local_variables[\"s\"]"
   ]
  },
  {
   "cell_type": "code",
   "execution_count": null,
   "metadata": {
    "ExecuteTime": {
     "end_time": "2022-05-21T00:07:43.416636Z",
     "start_time": "2022-05-21T00:07:43.410642Z"
    }
   },
   "outputs": [],
   "source": [
    "all_local_variables[\"s\"] == s"
   ]
  },
  {
   "cell_type": "markdown",
   "metadata": {},
   "source": [
    "## Sets"
   ]
  },
  {
   "cell_type": "markdown",
   "metadata": {},
   "source": [
    "A set is a dictionary, but with the **keys** only (no corresponding **values**). Its primary use is removal of duplicate values, and checking if an object is in the set."
   ]
  },
  {
   "cell_type": "code",
   "execution_count": null,
   "metadata": {
    "ExecuteTime": {
     "end_time": "2022-05-20T23:36:03.420043Z",
     "start_time": "2022-05-20T23:36:03.414196Z"
    }
   },
   "outputs": [],
   "source": [
    "s1 = {2, 4, 6, \"dog\"}\n",
    "s2 = set([\"dog\", \"cat\", \"cat\", \"cat\", \"cat\", 1, 1, 2, 3, 5])\n",
    "print(s1)\n",
    "print(s2)"
   ]
  },
  {
   "cell_type": "code",
   "execution_count": null,
   "metadata": {
    "ExecuteTime": {
     "end_time": "2022-05-20T23:37:59.472394Z",
     "start_time": "2022-05-20T23:37:59.466410Z"
    }
   },
   "outputs": [],
   "source": [
    "# Check if value is in set or not (VERY fast operation, no matter the length of the set)\n",
    "\"cat\" in s2"
   ]
  },
  {
   "cell_type": "code",
   "execution_count": null,
   "metadata": {
    "ExecuteTime": {
     "end_time": "2022-05-20T23:38:19.237371Z",
     "start_time": "2022-05-20T23:38:19.232252Z"
    }
   },
   "outputs": [],
   "source": [
    "\"dog\" not in s1"
   ]
  },
  {
   "cell_type": "code",
   "execution_count": null,
   "metadata": {
    "ExecuteTime": {
     "end_time": "2022-05-21T00:16:01.414064Z",
     "start_time": "2022-05-21T00:16:01.408893Z"
    }
   },
   "outputs": [],
   "source": [
    "# You COULD do this with a list, but is way slower, as it has to search element by element\n",
    "\"cat\" in [1, 2, 3, 5, \"cat\", \"dog\"]"
   ]
  },
  {
   "cell_type": "code",
   "execution_count": null,
   "metadata": {
    "ExecuteTime": {
     "end_time": "2022-05-20T23:36:23.075942Z",
     "start_time": "2022-05-20T23:36:23.071083Z"
    }
   },
   "outputs": [],
   "source": [
    "# Union of the two sets\n",
    "s1 | s2"
   ]
  },
  {
   "cell_type": "code",
   "execution_count": null,
   "metadata": {
    "ExecuteTime": {
     "end_time": "2022-05-20T23:36:36.887805Z",
     "start_time": "2022-05-20T23:36:36.881255Z"
    }
   },
   "outputs": [],
   "source": [
    "# Intersection of the two sets\n",
    "s1 & s2"
   ]
  },
  {
   "cell_type": "markdown",
   "metadata": {},
   "source": [
    "## A note on Python objects"
   ]
  },
  {
   "cell_type": "markdown",
   "metadata": {
    "slideshow": {
     "slide_type": "slide"
    }
   },
   "source": [
    "What is an object? Well, **everything** that you can save to a variable in Python is an object. In fact, the base class that all classes must inherit from is appropriately named `object`. On its own, the `object` doesn't save anything except for basic bookkeeping information, such as its memory allocation size and location, as well as its reference count so it knows to release allocated memory when it becomes inaccessible."
   ]
  },
  {
   "cell_type": "code",
   "execution_count": null,
   "metadata": {
    "ExecuteTime": {
     "end_time": "2022-05-20T14:58:25.158126Z",
     "start_time": "2022-05-20T14:58:25.152136Z"
    }
   },
   "outputs": [],
   "source": [
    "obj = object()\n",
    "type(obj)"
   ]
  },
  {
   "cell_type": "code",
   "execution_count": null,
   "metadata": {
    "ExecuteTime": {
     "end_time": "2022-05-20T14:58:34.602965Z",
     "start_time": "2022-05-20T14:58:34.599715Z"
    }
   },
   "outputs": [],
   "source": [
    "obj.__sizeof__()"
   ]
  },
  {
   "cell_type": "markdown",
   "metadata": {},
   "source": [
    "*Note: Any object which stores useful information must allocate **more** than 16 bytes of data. So keep in mind that you might not want to generate a Python list with a billion entries, as it will require a bare minimum of 16 GB, which is likely your entire RAM.*"
   ]
  },
  {
   "cell_type": "markdown",
   "metadata": {
    "slideshow": {
     "slide_type": "notes"
    }
   },
   "source": [
    "Every constant, variable, or function in Python is actually a object with a\n",
    "type and associated attributes and methods. An *attribute* a property of the\n",
    "object that you get or set by giving the ``<object_name>.<attribute_name>``, for example ``img.shape``. A *method* is a function that the object provides, for example ``img.argmax(axis=0)`` or ``img.min()``.\n",
    "    \n",
    "Use tab completion in IPython/Jupyter to inspect objects and start to understand\n",
    "attributes and methods. To start off create a list of 4 numbers:\n",
    "\n",
    "    li = [3, 1, 2, 1]\n",
    "    li.<TAB>\n",
    "\n",
    "This will show the available attributes and methods for the Python list\n",
    "``li``.\n",
    "\n",
    "**Using ``<TAB>``-completion and help is a very efficient way to learn and later\n",
    "remember object methods!**\n",
    "\n",
    "    In [2]: li.\n",
    "    li.append   li.copy     li.extend   li.insert   li.remove   li.sort\n",
    "    li.clear    li.count    li.index    li.pop      li.reverse \n",
    "    \n",
    "If you want to know what a function or method does, you can use a question mark ``?``:\n",
    "    \n",
    "    In [9]: li.append?\n",
    "    Type:       builtin_function_or_method\n",
    "    String Form:<built-in method append of list object at 0x1027210e0>\n",
    "    Docstring:  L.append(object) -> None -- append object to end"
   ]
  },
  {
   "cell_type": "markdown",
   "metadata": {},
   "source": [
    "## Dynamic typing"
   ]
  },
  {
   "cell_type": "markdown",
   "metadata": {
    "slideshow": {
     "slide_type": "slide"
    }
   },
   "source": [
    "One final note on Python types - unlike many other programming languages where types have to be declared for variables, Python is *dynamically typed* which means that variables aren't permanently assigned a specific type:"
   ]
  },
  {
   "cell_type": "code",
   "execution_count": null,
   "metadata": {},
   "outputs": [],
   "source": [
    "a = 1\n",
    "type(a)"
   ]
  },
  {
   "cell_type": "code",
   "execution_count": null,
   "metadata": {},
   "outputs": [],
   "source": [
    "a = 2.3\n",
    "type(a)"
   ]
  },
  {
   "cell_type": "code",
   "execution_count": null,
   "metadata": {},
   "outputs": [],
   "source": [
    "a = 'hello'\n",
    "type(a)"
   ]
  },
  {
   "cell_type": "markdown",
   "metadata": {},
   "source": [
    "## Converting between types"
   ]
  },
  {
   "cell_type": "markdown",
   "metadata": {
    "slideshow": {
     "slide_type": "slide"
    }
   },
   "source": [
    "There may be cases where you want to convert a string to a floating point value, and integer to a string, etc. For this, you can simply use the ``int()``, ``float()``, and ``str()`` functions:"
   ]
  },
  {
   "cell_type": "code",
   "execution_count": null,
   "metadata": {},
   "outputs": [],
   "source": [
    "int('1')"
   ]
  },
  {
   "cell_type": "code",
   "execution_count": null,
   "metadata": {},
   "outputs": [],
   "source": [
    "float('4.31')"
   ]
  },
  {
   "cell_type": "markdown",
   "metadata": {
    "slideshow": {
     "slide_type": "slide"
    }
   },
   "source": [
    "For example:"
   ]
  },
  {
   "cell_type": "code",
   "execution_count": null,
   "metadata": {
    "slideshow": {
     "slide_type": "-"
    }
   },
   "outputs": [],
   "source": [
    "int('5') + float('4.31')"
   ]
  },
  {
   "cell_type": "markdown",
   "metadata": {},
   "source": [
    "is different from:"
   ]
  },
  {
   "cell_type": "code",
   "execution_count": null,
   "metadata": {},
   "outputs": [],
   "source": [
    "'5' + '4.31'"
   ]
  },
  {
   "cell_type": "markdown",
   "metadata": {
    "slideshow": {
     "slide_type": "skip"
    }
   },
   "source": [
    "Similarly:"
   ]
  },
  {
   "cell_type": "code",
   "execution_count": null,
   "metadata": {
    "slideshow": {
     "slide_type": "slide"
    }
   },
   "outputs": [],
   "source": [
    "str(1)"
   ]
  },
  {
   "cell_type": "code",
   "execution_count": null,
   "metadata": {},
   "outputs": [],
   "source": [
    "str(4.5521)"
   ]
  },
  {
   "cell_type": "code",
   "execution_count": null,
   "metadata": {},
   "outputs": [],
   "source": [
    "str(3) + str(4)"
   ]
  },
  {
   "cell_type": "markdown",
   "metadata": {},
   "source": [
    "Be aware of this for example when connecting strings with numbers, as you can only concatenate identical types this way:"
   ]
  },
  {
   "cell_type": "code",
   "execution_count": null,
   "metadata": {},
   "outputs": [],
   "source": [
    "'The value is ' + 3"
   ]
  },
  {
   "cell_type": "markdown",
   "metadata": {},
   "source": [
    "Instead do:"
   ]
  },
  {
   "cell_type": "code",
   "execution_count": null,
   "metadata": {},
   "outputs": [],
   "source": [
    "'The value is ' + str(3)"
   ]
  },
  {
   "cell_type": "markdown",
   "metadata": {},
   "source": [
    "Or better yet, use an f-string (Python >=3.6 only) to automatically call the string constructor inside curly brackets"
   ]
  },
  {
   "cell_type": "code",
   "execution_count": null,
   "metadata": {
    "ExecuteTime": {
     "end_time": "2022-05-21T22:19:35.273849Z",
     "start_time": "2022-05-21T22:19:35.268055Z"
    }
   },
   "outputs": [],
   "source": [
    "value = 3\n",
    "f'The value is {value}'"
   ]
  },
  {
   "cell_type": "markdown",
   "metadata": {},
   "source": [
    "## The `is` operator and \"mutability\"\n",
    "\n",
    "`is` tests if the two variables store the **same** Python object. That is, they are stored in the same place in memory. If the object is **mutable** (i.e., its stored data is editable), then any changes to one variable will change the value stored to the other variable as well."
   ]
  },
  {
   "cell_type": "code",
   "execution_count": null,
   "metadata": {
    "ExecuteTime": {
     "end_time": "2022-05-18T13:07:10.882226Z",
     "start_time": "2022-05-18T13:07:10.874048Z"
    }
   },
   "outputs": [],
   "source": [
    "a = [1, 2, 3]\n",
    "b = [1, 2, 3]\n",
    "c = a\n",
    "d = a.copy()\n",
    "\n",
    "print(a == b, a is b)\n",
    "print(a == c, a is c)\n",
    "print(a == d, a is d)\n",
    "\n",
    "a.append(4)\n",
    "print(b)\n",
    "print(c)\n",
    "print(d)"
   ]
  },
  {
   "cell_type": "markdown",
   "metadata": {},
   "source": [
    "Certain commonly-used, immutable values have special, reserved positions in memory, such as Python's null value, `None`. Therefore, independent instances of `None` are always the same object. The same is true for small integers and single-word strings. Therefore, you can get confusing results if you use the `is` operator between immutable objects."
   ]
  },
  {
   "cell_type": "code",
   "execution_count": null,
   "metadata": {
    "ExecuteTime": {
     "end_time": "2022-05-18T13:03:41.399312Z",
     "start_time": "2022-05-18T13:03:41.393420Z"
    }
   },
   "outputs": [],
   "source": [
    "a1 = None\n",
    "a2 = None\n",
    "a1 is a2"
   ]
  },
  {
   "cell_type": "code",
   "execution_count": null,
   "metadata": {
    "ExecuteTime": {
     "end_time": "2022-05-18T13:03:42.262827Z",
     "start_time": "2022-05-18T13:03:42.256384Z"
    }
   },
   "outputs": [],
   "source": [
    "b1 = 256\n",
    "b2 = 256\n",
    "b1 is b2"
   ]
  },
  {
   "cell_type": "code",
   "execution_count": null,
   "metadata": {
    "ExecuteTime": {
     "end_time": "2022-05-18T13:03:45.727072Z",
     "start_time": "2022-05-18T13:03:45.722657Z"
    }
   },
   "outputs": [],
   "source": [
    "c1 = 257\n",
    "c2 = 257\n",
    "c1 is c2"
   ]
  },
  {
   "cell_type": "code",
   "execution_count": null,
   "metadata": {
    "ExecuteTime": {
     "end_time": "2022-05-18T13:03:46.338704Z",
     "start_time": "2022-05-18T13:03:46.332878Z"
    }
   },
   "outputs": [],
   "source": [
    "d1 = \"Supercalifragilisticexpialidocious\"\n",
    "d2 = \"Supercalifragilisticexpialidocious\"\n",
    "d1 is d2"
   ]
  },
  {
   "cell_type": "code",
   "execution_count": null,
   "metadata": {
    "ExecuteTime": {
     "end_time": "2022-05-18T13:03:46.689042Z",
     "start_time": "2022-05-18T13:03:46.683660Z"
    }
   },
   "outputs": [],
   "source": [
    "e1 = \"Two words\"\n",
    "e2 = \"Two words\"\n",
    "e1 is e2"
   ]
  },
  {
   "cell_type": "markdown",
   "metadata": {},
   "source": [
    "# Sneak peak into the types used in the next lesson"
   ]
  },
  {
   "cell_type": "markdown",
   "metadata": {},
   "source": [
    "### The function type:"
   ]
  },
  {
   "cell_type": "code",
   "execution_count": null,
   "metadata": {
    "ExecuteTime": {
     "end_time": "2022-05-18T13:10:10.571036Z",
     "start_time": "2022-05-18T13:10:10.566153Z"
    }
   },
   "outputs": [],
   "source": [
    "def f(x):\n",
    "    return x**2\n",
    "\n",
    "type(f)"
   ]
  },
  {
   "cell_type": "markdown",
   "metadata": {},
   "source": [
    "### The module type"
   ]
  },
  {
   "cell_type": "code",
   "execution_count": null,
   "metadata": {
    "ExecuteTime": {
     "end_time": "2022-05-20T15:09:50.994752Z",
     "start_time": "2022-05-20T15:09:50.987840Z"
    }
   },
   "outputs": [],
   "source": [
    "import numpy as np\n",
    "type(np)"
   ]
  },
  {
   "cell_type": "markdown",
   "metadata": {},
   "source": [
    "### Defining custom classes"
   ]
  },
  {
   "cell_type": "code",
   "execution_count": null,
   "metadata": {
    "ExecuteTime": {
     "end_time": "2022-05-21T00:34:02.871058Z",
     "start_time": "2022-05-21T00:34:02.863446Z"
    }
   },
   "outputs": [],
   "source": [
    "class MyValue:\n",
    "    def __init__(self, value):\n",
    "        \"\"\"Called during object construction\"\"\"\n",
    "        self.value = value\n",
    "    \n",
    "    def __repr__(self):\n",
    "        \"\"\"Determines how to represent this object as a string\"\"\"\n",
    "        return \"My value is \" + repr(self.value)\n",
    "\n",
    "my_value = MyValue(5)\n",
    "my_value"
   ]
  },
  {
   "cell_type": "markdown",
   "metadata": {},
   "source": [
    "*Terminology:* `my_value` is an **instance** of the `MyValue` **class**, just like how `5` is an instance of the `int` class."
   ]
  },
  {
   "cell_type": "code",
   "execution_count": null,
   "metadata": {
    "ExecuteTime": {
     "end_time": "2022-05-20T15:10:26.040609Z",
     "start_time": "2022-05-20T15:10:26.034329Z"
    }
   },
   "outputs": [],
   "source": [
    "type(my_value)"
   ]
  },
  {
   "cell_type": "code",
   "execution_count": null,
   "metadata": {
    "ExecuteTime": {
     "end_time": "2022-05-20T15:16:00.295222Z",
     "start_time": "2022-05-20T15:16:00.289713Z"
    }
   },
   "outputs": [],
   "source": [
    "type(MyValue)"
   ]
  },
  {
   "cell_type": "code",
   "execution_count": null,
   "metadata": {
    "ExecuteTime": {
     "end_time": "2022-05-20T15:19:12.193673Z",
     "start_time": "2022-05-20T15:19:12.187908Z"
    }
   },
   "outputs": [],
   "source": [
    "type(5)"
   ]
  },
  {
   "cell_type": "code",
   "execution_count": null,
   "metadata": {
    "ExecuteTime": {
     "end_time": "2022-05-20T15:16:09.730011Z",
     "start_time": "2022-05-20T15:16:09.724505Z"
    }
   },
   "outputs": [],
   "source": [
    "type(int)"
   ]
  }
 ],
 "metadata": {
  "anaconda-cloud": {},
  "kernelspec": {
   "display_name": "Python 3 (ipykernel)",
   "language": "python",
   "name": "python3"
  },
  "language_info": {
   "codemirror_mode": {
    "name": "ipython",
    "version": 3
   },
   "file_extension": ".py",
   "mimetype": "text/x-python",
   "name": "python",
   "nbconvert_exporter": "python",
   "pygments_lexer": "ipython3",
   "version": "3.8.3"
  },
  "toc": {
   "base_numbering": 1,
   "nav_menu": {},
   "number_sections": true,
   "sideBar": true,
   "skip_h1_title": false,
   "title_cell": "Table of Contents",
   "title_sidebar": "Contents",
   "toc_cell": false,
   "toc_position": {},
   "toc_section_display": true,
   "toc_window_display": false
  }
 },
 "nbformat": 4,
 "nbformat_minor": 1
}
