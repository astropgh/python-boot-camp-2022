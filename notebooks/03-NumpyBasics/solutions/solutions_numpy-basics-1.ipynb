{
 "cells": [
  {
   "cell_type": "markdown",
   "metadata": {},
   "source": [
    "# Before we start...\n",
    "This tutorial is designed to be fairly casual. There often is not one 'correct' way to write code so I believe the best way to learn is to play around and explore rather than focus on getting the 'right' answer. These exercises are meant to be a guide so feel free to ask questions, lookup documentation, and explore NumPy as we progress. I have also added several \"bonus\" exercises to encourage exactly that. I probably won't go over these in the interest of time but if you would like to please just ask and I will be happy to explore with you.\n",
    "\n",
    "# Why NumPy and NumPy arrays?\n",
    "- A way to represent multi-dimensional arrays (i.e. vectors, matrices, images, tables, tensors, etc.) in Python\n",
    "- Fast operations on such multi-dimensional arrays (a.k.a vectorized operations)   \n",
    "- Used by many other python packages such as pandas and astropy\n",
    "\n",
    "   \n",
    "     \n",
    "In this tutorial, we will learn how to use NumPy by going through various examples from Physics and Astronomy. The focus is on learning by doing. It is not possible to cover everything in a tutorial, feel free to refer to the [numpy documentation](https://numpy.org/doc/stable/) and Google things. \n",
    "To start, lets import NumPy. The recommended way is:"
   ]
  },
  {
   "cell_type": "code",
   "execution_count": 1,
   "metadata": {},
   "outputs": [],
   "source": [
    "import numpy as np"
   ]
  },
  {
   "cell_type": "markdown",
   "metadata": {},
   "source": [
    "Let's start by testing numpy's speed. We can do this using the python magic command timeit. For example, without the use of numpy, how would you find the cube root of every integer between 0 and 100?"
   ]
  },
  {
   "cell_type": "code",
   "execution_count": 2,
   "metadata": {},
   "outputs": [
    {
     "name": "stdout",
     "output_type": "stream",
     "text": [
      "12.5 µs ± 313 ns per loop (mean ± std. dev. of 7 runs, 100000 loops each)\n"
     ]
    }
   ],
   "source": [
    "%%timeit\n",
    "\n",
    "### INSTERT CODE HERE ###\n",
    "\n",
    "cbrt = [i**(1./3.) for i in range(100)]"
   ]
  },
  {
   "cell_type": "markdown",
   "metadata": {},
   "source": [
    "Now let's try it using NumPy. Run the example code below to time the same opperation using numpy arrays. How do the two methods compare?"
   ]
  },
  {
   "cell_type": "code",
   "execution_count": 3,
   "metadata": {},
   "outputs": [
    {
     "name": "stdout",
     "output_type": "stream",
     "text": [
      "4.92 µs ± 189 ns per loop (mean ± std. dev. of 7 runs, 100000 loops each)\n"
     ]
    }
   ],
   "source": [
    "%%timeit\n",
    "\n",
    "arr = np.arange(0,100)\n",
    "cbrt = arr**(1./3.)"
   ]
  },
  {
   "cell_type": "markdown",
   "metadata": {},
   "source": [
    "Now imagine doing hundreds, thousands, or even millions of calculations. This difference will really add up! But why is numpy so fast anyways? There are a few reasons for this:\n",
    "1. Arrays contain data of the same type and are stored together allowing for easy access.\n",
    "  \n",
    "2. NumPy breaks down calculations and computes them in parallel. \n",
    "  \n",
    "3. NumPy uses precompiled C, C++, and Fortran code. These languages are much faster than python. \n",
    "  "
   ]
  },
  {
   "cell_type": "markdown",
   "metadata": {},
   "source": [
    "## Representing positions of particles using arrays\n",
    "### Creating an array"
   ]
  },
  {
   "cell_type": "markdown",
   "metadata": {},
   "source": [
    "The position of a particle in 3D is represented by a collection of three numbers. We can create a NumPy array to store it's coordinates ($x,y,z$). Note that all elements in the array must be of the same type. This characteristic is part of what makes NumPy so fast."
   ]
  },
  {
   "cell_type": "code",
   "execution_count": 4,
   "metadata": {},
   "outputs": [],
   "source": [
    "pos_1 = np.array([1,2,3])"
   ]
  },
  {
   "cell_type": "markdown",
   "metadata": {},
   "source": [
    "We can print out the array and check its type to see what has been stored."
   ]
  },
  {
   "cell_type": "code",
   "execution_count": 5,
   "metadata": {},
   "outputs": [
    {
     "name": "stdout",
     "output_type": "stream",
     "text": [
      "[1 2 3]\n"
     ]
    }
   ],
   "source": [
    "print(pos_1)"
   ]
  },
  {
   "cell_type": "code",
   "execution_count": 6,
   "metadata": {},
   "outputs": [
    {
     "data": {
      "text/plain": [
       "numpy.ndarray"
      ]
     },
     "execution_count": 6,
     "metadata": {},
     "output_type": "execute_result"
    }
   ],
   "source": [
    "type(pos_1)"
   ]
  },
  {
   "cell_type": "markdown",
   "metadata": {},
   "source": [
    "Now store the position of another particle which is located at coordinates $(4,5,6)$"
   ]
  },
  {
   "cell_type": "code",
   "execution_count": 7,
   "metadata": {},
   "outputs": [],
   "source": [
    "pos_2 = np.array([4,5,6])         # COMPLETE THIS LINE OF CODE"
   ]
  },
  {
   "cell_type": "markdown",
   "metadata": {},
   "source": [
    "NumPy takes advantage of object orriented code. NumPy arrays are Python objects and have \"attributes\" associated with them. Attributes are properties contained in the object. For example, the `ndim` and `shape` attributes can be used to check the number of dimensions and the shape of the array. Python objects also have \"methods\" which are functions that act on the object. We will discuss these later."
   ]
  },
  {
   "cell_type": "code",
   "execution_count": 8,
   "metadata": {},
   "outputs": [
    {
     "data": {
      "text/plain": [
       "1"
      ]
     },
     "execution_count": 8,
     "metadata": {},
     "output_type": "execute_result"
    }
   ],
   "source": [
    "pos_1.ndim"
   ]
  },
  {
   "cell_type": "code",
   "execution_count": 9,
   "metadata": {},
   "outputs": [
    {
     "data": {
      "text/plain": [
       "(3,)"
      ]
     },
     "execution_count": 9,
     "metadata": {},
     "output_type": "execute_result"
    }
   ],
   "source": [
    "pos_1.shape"
   ]
  },
  {
   "cell_type": "markdown",
   "metadata": {},
   "source": [
    "The above shape indicates that there's only one dimension to the array and there are 3 elements. In NumPy terminology the space of numbers required to denote the index of an element is called an `axis` and the total number of such axes is called the `dimension`.\n",
    "\n",
    "An object which has 1 dimension is like a vector while an object with 2 dimensions is like a matrix. This idea is generalized to get an `n-dimensional` array, i.e. the location of an element in that array needs to be denoted by specifying `n` numbers (i.e. axes). Check out another array attribute, `dtype`, which tells the type of data the array holds."
   ]
  },
  {
   "cell_type": "code",
   "execution_count": 10,
   "metadata": {},
   "outputs": [
    {
     "data": {
      "text/plain": [
       "dtype('int64')"
      ]
     },
     "execution_count": 10,
     "metadata": {},
     "output_type": "execute_result"
    }
   ],
   "source": [
    "pos_1.dtype         # COMPLETE THIS LINE OF CODE"
   ]
  },
  {
   "cell_type": "markdown",
   "metadata": {},
   "source": [
    "Similar to lists the `len()` function can be used to check out the length of 1-D arrays."
   ]
  },
  {
   "cell_type": "code",
   "execution_count": 11,
   "metadata": {},
   "outputs": [
    {
     "data": {
      "text/plain": [
       "3"
      ]
     },
     "execution_count": 11,
     "metadata": {},
     "output_type": "execute_result"
    }
   ],
   "source": [
    "len(pos_1)                                      # COMPLETE THIS LINE OF CODE"
   ]
  },
  {
   "cell_type": "markdown",
   "metadata": {},
   "source": [
    "### Indexing: Accessing elements of an array\n",
    "Indexing a one dimensional array follows the same syntax as that of lists (i.e. the first element has an index of `0` while the last element has an index of `len(array)-1` and proceeds in steps of 1). If you want to count from the end of an array the last element has an index of `-1`, the second last `-2`, and so on.\n",
    "So, for example if we want to access the $x$ coordinate of the first particle:"
   ]
  },
  {
   "cell_type": "code",
   "execution_count": 12,
   "metadata": {},
   "outputs": [
    {
     "data": {
      "text/plain": [
       "1"
      ]
     },
     "execution_count": 12,
     "metadata": {},
     "output_type": "execute_result"
    }
   ],
   "source": [
    "pos_1[0]"
   ]
  },
  {
   "cell_type": "markdown",
   "metadata": {},
   "source": [
    "Calculate the sum of the $y$ and $z$ coordinates of the second particle (i.e. `pos_2`)"
   ]
  },
  {
   "cell_type": "code",
   "execution_count": 13,
   "metadata": {},
   "outputs": [
    {
     "data": {
      "text/plain": [
       "11"
      ]
     },
     "execution_count": 13,
     "metadata": {},
     "output_type": "execute_result"
    }
   ],
   "source": [
    "pos_2[1] + pos_2[2] # COMPLETE THIS LINE OF CODE"
   ]
  },
  {
   "cell_type": "markdown",
   "metadata": {},
   "source": [
    "**BONUS:** Can you guess what would happen if we added the two arrays without accessing elements? Try it below!"
   ]
  },
  {
   "cell_type": "code",
   "execution_count": 14,
   "metadata": {},
   "outputs": [
    {
     "data": {
      "text/plain": [
       "array([ 8, 10, 12])"
      ]
     },
     "execution_count": 14,
     "metadata": {},
     "output_type": "execute_result"
    }
   ],
   "source": [
    "## INSERT CODE HERE ##\n",
    "pos_2 + pos_2"
   ]
  },
  {
   "cell_type": "markdown",
   "metadata": {},
   "source": [
    "### Automatically generating arrays\n",
    "Sometimes it is useful to automatically generate an array of a given length. Some common ways to do these are the functions: `np.ones`, `np.zeros`, `np.arange`, `np.linspace` and `np.logspace`. Let's check the documentation for `np.zeros` and `np.ones` by typing `?` after the function name:  \n",
    "(Also when using jupyter the documentation can also be accessed by pressing `Shift`+`tab` after typing the function name, i.e. `np.zeros` -> `Shift`+`tab`) "
   ]
  },
  {
   "cell_type": "code",
   "execution_count": 15,
   "metadata": {},
   "outputs": [],
   "source": [
    "np.ones?"
   ]
  },
  {
   "cell_type": "markdown",
   "metadata": {},
   "source": [
    "**BONUS:** Can you make an array that has one hundred elements all equal to 5?"
   ]
  },
  {
   "cell_type": "code",
   "execution_count": 16,
   "metadata": {},
   "outputs": [
    {
     "data": {
      "text/plain": [
       "array([5., 5., 5., 5., 5., 5., 5., 5., 5., 5., 5., 5., 5., 5., 5., 5., 5.,\n",
       "       5., 5., 5., 5., 5., 5., 5., 5., 5., 5., 5., 5., 5., 5., 5., 5., 5.,\n",
       "       5., 5., 5., 5., 5., 5., 5., 5., 5., 5., 5., 5., 5., 5., 5., 5., 5.,\n",
       "       5., 5., 5., 5., 5., 5., 5., 5., 5., 5., 5., 5., 5., 5., 5., 5., 5.,\n",
       "       5., 5., 5., 5., 5., 5., 5., 5., 5., 5., 5., 5., 5., 5., 5., 5., 5.,\n",
       "       5., 5., 5., 5., 5., 5., 5., 5., 5., 5., 5., 5., 5., 5., 5.])"
      ]
     },
     "execution_count": 16,
     "metadata": {},
     "output_type": "execute_result"
    }
   ],
   "source": [
    "## INSERT CODE HERE ##\n",
    "np.ones(100)*5"
   ]
  },
  {
   "cell_type": "markdown",
   "metadata": {},
   "source": [
    "`np.arange` returns evenly spaced values within a given interval. Let's check the documentation for `np.arange`."
   ]
  },
  {
   "cell_type": "code",
   "execution_count": 17,
   "metadata": {},
   "outputs": [],
   "source": [
    "np.arange?"
   ]
  },
  {
   "cell_type": "markdown",
   "metadata": {},
   "source": [
    "How can we use np.arange to generate an array whose elements are between 0 to 100 and increase in steps of 10?"
   ]
  },
  {
   "cell_type": "code",
   "execution_count": 18,
   "metadata": {},
   "outputs": [
    {
     "data": {
      "text/plain": [
       "array([ 0, 10, 20, 30, 40, 50, 60, 70, 80, 90])"
      ]
     },
     "execution_count": 18,
     "metadata": {},
     "output_type": "execute_result"
    }
   ],
   "source": [
    "## INSERT CODE HERE ##\n",
    "np.arange(0,100,10)"
   ]
  },
  {
   "cell_type": "markdown",
   "metadata": {},
   "source": [
    "Now look up the documentation for `np.linspace` and generate the same array we generated above using `np.linspace`. What is the difference between `np.arange` and `np.linspace`?"
   ]
  },
  {
   "cell_type": "code",
   "execution_count": 19,
   "metadata": {},
   "outputs": [
    {
     "data": {
      "text/plain": [
       "array([ 0., 10., 20., 30., 40., 50., 60., 70., 80., 90.])"
      ]
     },
     "execution_count": 19,
     "metadata": {},
     "output_type": "execute_result"
    }
   ],
   "source": [
    "## INSERT CODE HERE ##\n",
    "np.linspace(0, 90, 10)"
   ]
  },
  {
   "cell_type": "markdown",
   "metadata": {},
   "source": [
    "**BONUS:** Lookup the documentation for `np.logspace` and create an array using this function. When might this type of array be useful?"
   ]
  },
  {
   "cell_type": "code",
   "execution_count": 20,
   "metadata": {},
   "outputs": [],
   "source": [
    "## INSERT CODE HERE ##\n",
    "np.logspace?"
   ]
  },
  {
   "cell_type": "markdown",
   "metadata": {},
   "source": [
    "**Random Arrays:** We can also generate arrays whose elements are random numbers following a specific distribution. The `np.random` module contains a number of functions that can be used to this effect. The following will create a one dimensional array with 5 samples drawn from a standard normal distribution. More such functions can be found in the [documentation](https://numpy.org/doc/stable/reference/random/legacy.html#legacy)."
   ]
  },
  {
   "cell_type": "code",
   "execution_count": 21,
   "metadata": {},
   "outputs": [
    {
     "data": {
      "text/plain": [
       "array([-0.91092233,  1.20978789, -0.49642374,  0.17780986, -0.65011393])"
      ]
     },
     "execution_count": 21,
     "metadata": {},
     "output_type": "execute_result"
    }
   ],
   "source": [
    "np.random.randn(5)"
   ]
  },
  {
   "cell_type": "markdown",
   "metadata": {},
   "source": [
    "### Slicing: Extracting chunks of an array"
   ]
  },
  {
   "cell_type": "markdown",
   "metadata": {},
   "source": [
    "We can extract smaller arrays from a longer array, the syntax is `array[start_index:stop_index]`. An important note is that the returned array will **include** the element corresponding to the `start_index` and **exclude** the element corresponding to the `stop_index`, i.e. it will end at `stop_index-1`. For example, lets generate an array with 100 elements"
   ]
  },
  {
   "cell_type": "code",
   "execution_count": 22,
   "metadata": {},
   "outputs": [],
   "source": [
    "big_array = np.arange(100)"
   ]
  },
  {
   "cell_type": "markdown",
   "metadata": {},
   "source": [
    "**NOTE:** In addition to the usage of `np.arange` shown previously, if you put only an integer as the argument of `np.arange`, it will return an array of integers starting from `0` and of length equal to the argument.  \n",
    "\n",
    "To get a smaller slice of `big_array` beginning at the index `20` and ending at the index `50-1` we do:"
   ]
  },
  {
   "cell_type": "code",
   "execution_count": 23,
   "metadata": {},
   "outputs": [
    {
     "data": {
      "text/plain": [
       "array([20, 21, 22, 23, 24, 25, 26, 27, 28, 29, 30, 31, 32, 33, 34, 35, 36,\n",
       "       37, 38, 39, 40, 41, 42, 43, 44, 45, 46, 47, 48, 49])"
      ]
     },
     "execution_count": 23,
     "metadata": {},
     "output_type": "execute_result"
    }
   ],
   "source": [
    "big_array[20:50]"
   ]
  },
  {
   "cell_type": "code",
   "execution_count": 24,
   "metadata": {},
   "outputs": [
    {
     "data": {
      "text/plain": [
       "array([20, 22, 24, 26, 28, 30, 32, 34, 36, 38, 40, 42, 44, 46, 48])"
      ]
     },
     "execution_count": 24,
     "metadata": {},
     "output_type": "execute_result"
    }
   ],
   "source": [
    "big_array[20:50:2]"
   ]
  },
  {
   "cell_type": "markdown",
   "metadata": {},
   "source": [
    "The syntax is `array[start_index:stop_index:step]` can be used to get a slice of an array where the elements are selected in units of `step`. If no `step` is provided, it is assumed to be 1 and hence all elements are returned in the given range.    \n",
    "\n",
    "So, if we want to extract the sequence `[65, 68, 71, 74, 77, 80, 83]` from `big_array`, what should we do? "
   ]
  },
  {
   "cell_type": "code",
   "execution_count": 25,
   "metadata": {},
   "outputs": [
    {
     "data": {
      "text/plain": [
       "array([65, 68, 71, 74, 77, 80, 83])"
      ]
     },
     "execution_count": 25,
     "metadata": {},
     "output_type": "execute_result"
    }
   ],
   "source": [
    "big_array[65:84:3]    # COMPLETE THIS LINE OF CODE"
   ]
  },
  {
   "cell_type": "markdown",
   "metadata": {},
   "source": [
    "**BONUS:** What happens when we change the `stop_index` above to `85`? What about `87`? Why?"
   ]
  },
  {
   "cell_type": "code",
   "execution_count": 26,
   "metadata": {},
   "outputs": [
    {
     "name": "stdout",
     "output_type": "stream",
     "text": [
      "[65 68 71 74 77 80 83]\n",
      "[65 68 71 74 77 80 83 86]\n"
     ]
    }
   ],
   "source": [
    "## INSERT CODE HERE ##\n",
    "print(big_array[65:85:3])\n",
    "print(big_array[65:87:3])"
   ]
  },
  {
   "cell_type": "markdown",
   "metadata": {},
   "source": [
    "**Note:** Doing `big_array[:]` is equivalent to selecting the whole array. The elements of an array can be reversed by selecting the whole array and having a step of `-1`. Try it below!"
   ]
  },
  {
   "cell_type": "code",
   "execution_count": 27,
   "metadata": {},
   "outputs": [
    {
     "data": {
      "text/plain": [
       "array([99, 98, 97, 96, 95, 94, 93, 92, 91, 90, 89, 88, 87, 86, 85, 84, 83,\n",
       "       82, 81, 80, 79, 78, 77, 76, 75, 74, 73, 72, 71, 70, 69, 68, 67, 66,\n",
       "       65, 64, 63, 62, 61, 60, 59, 58, 57, 56, 55, 54, 53, 52, 51, 50, 49,\n",
       "       48, 47, 46, 45, 44, 43, 42, 41, 40, 39, 38, 37, 36, 35, 34, 33, 32,\n",
       "       31, 30, 29, 28, 27, 26, 25, 24, 23, 22, 21, 20, 19, 18, 17, 16, 15,\n",
       "       14, 13, 12, 11, 10,  9,  8,  7,  6,  5,  4,  3,  2,  1,  0])"
      ]
     },
     "execution_count": 27,
     "metadata": {},
     "output_type": "execute_result"
    }
   ],
   "source": [
    "### INSERT CODE HERE ##\n",
    "big_array[::-1]"
   ]
  },
  {
   "cell_type": "markdown",
   "metadata": {},
   "source": [
    "## Numerical operations on arrays  \n",
    "### Element wise binary operations"
   ]
  },
  {
   "cell_type": "markdown",
   "metadata": {},
   "source": [
    "All Python binary operations i.e. `+`,`-`,`*`,`/`and`**` work on arrays too! Note that these operators are aliases for numpy functions. For example, we can write "
   ]
  },
  {
   "cell_type": "code",
   "execution_count": 28,
   "metadata": {},
   "outputs": [
    {
     "data": {
      "text/plain": [
       "array([3, 6, 9])"
      ]
     },
     "execution_count": 28,
     "metadata": {},
     "output_type": "execute_result"
    }
   ],
   "source": [
    "3*pos_1"
   ]
  },
  {
   "cell_type": "markdown",
   "metadata": {},
   "source": [
    "which is equivalent to"
   ]
  },
  {
   "cell_type": "code",
   "execution_count": 29,
   "metadata": {},
   "outputs": [
    {
     "data": {
      "text/plain": [
       "array([3, 6, 9])"
      ]
     },
     "execution_count": 29,
     "metadata": {},
     "output_type": "execute_result"
    }
   ],
   "source": [
    "np.multiply(3, pos_1)"
   ]
  },
  {
   "cell_type": "markdown",
   "metadata": {},
   "source": [
    "Now try squaring each coordinate of particle 2. Try using the numpy function as well as it's alias to complete the operation."
   ]
  },
  {
   "cell_type": "code",
   "execution_count": 30,
   "metadata": {},
   "outputs": [
    {
     "name": "stdout",
     "output_type": "stream",
     "text": [
      "[16 25 36]\n",
      "[16 25 36]\n"
     ]
    }
   ],
   "source": [
    "## INSERT CODE HERE ##\n",
    "print(pos_2**2)\n",
    "print(np.power(pos_2,2))"
   ]
  },
  {
   "cell_type": "markdown",
   "metadata": {},
   "source": [
    "All these operations are done element wise on NumPy arrays. What does element wise mean?"
   ]
  },
  {
   "cell_type": "markdown",
   "metadata": {},
   "source": [
    "Type answer by double clicking on this text:\n",
    "  \n",
    "  "
   ]
  },
  {
   "cell_type": "markdown",
   "metadata": {},
   "source": [
    "If two arrays are of **same shape** then all these binary operations are performed between elements in the same index for both the arrays. For example let's add the positions of two vectors (*note that we performed this operation in an earlier bonus question*)."
   ]
  },
  {
   "cell_type": "code",
   "execution_count": 31,
   "metadata": {},
   "outputs": [
    {
     "data": {
      "text/plain": [
       "array([5, 7, 9])"
      ]
     },
     "execution_count": 31,
     "metadata": {},
     "output_type": "execute_result"
    }
   ],
   "source": [
    "pos_1 + pos_2"
   ]
  },
  {
   "cell_type": "markdown",
   "metadata": {},
   "source": [
    "What happens if we exponentiate the elements of the first array to the power of the elemnts of the second array?  "
   ]
  },
  {
   "cell_type": "code",
   "execution_count": 32,
   "metadata": {},
   "outputs": [
    {
     "data": {
      "text/plain": [
       "array([  1,  32, 729])"
      ]
     },
     "execution_count": 32,
     "metadata": {},
     "output_type": "execute_result"
    }
   ],
   "source": [
    "## INSERT CODE HERE ##\n",
    "pos_1**pos_2"
   ]
  },
  {
   "cell_type": "markdown",
   "metadata": {},
   "source": [
    "What happens if we try to do such operations between arrays of different shapes?  \n",
    "A short answer is it may or may not give you an error!! We will look into this in the next part of the tutorial.  \n",
    "  \n",
    "**BONUS:** Try this out below."
   ]
  },
  {
   "cell_type": "code",
   "execution_count": 33,
   "metadata": {},
   "outputs": [
    {
     "ename": "ValueError",
     "evalue": "operands could not be broadcast together with shapes (3,) (2,) ",
     "output_type": "error",
     "traceback": [
      "\u001b[0;31m---------------------------------------------------------------------------\u001b[0m",
      "\u001b[0;31mValueError\u001b[0m                                Traceback (most recent call last)",
      "\u001b[0;32m/tmp/ipykernel_310/1824880524.py\u001b[0m in \u001b[0;36m<module>\u001b[0;34m\u001b[0m\n\u001b[1;32m      2\u001b[0m \u001b[0marr_1\u001b[0m \u001b[0;34m=\u001b[0m \u001b[0mnp\u001b[0m\u001b[0;34m.\u001b[0m\u001b[0marray\u001b[0m\u001b[0;34m(\u001b[0m\u001b[0;34m[\u001b[0m\u001b[0;36m1\u001b[0m\u001b[0;34m,\u001b[0m\u001b[0;36m2\u001b[0m\u001b[0;34m,\u001b[0m\u001b[0;36m3\u001b[0m\u001b[0;34m]\u001b[0m\u001b[0;34m)\u001b[0m\u001b[0;34m\u001b[0m\u001b[0;34m\u001b[0m\u001b[0m\n\u001b[1;32m      3\u001b[0m \u001b[0marr_2\u001b[0m \u001b[0;34m=\u001b[0m \u001b[0mnp\u001b[0m\u001b[0;34m.\u001b[0m\u001b[0marray\u001b[0m\u001b[0;34m(\u001b[0m\u001b[0;34m[\u001b[0m\u001b[0;36m4\u001b[0m\u001b[0;34m,\u001b[0m\u001b[0;36m5\u001b[0m\u001b[0;34m]\u001b[0m\u001b[0;34m)\u001b[0m\u001b[0;34m\u001b[0m\u001b[0;34m\u001b[0m\u001b[0m\n\u001b[0;32m----> 4\u001b[0;31m \u001b[0marr_1\u001b[0m \u001b[0;34m**\u001b[0m \u001b[0marr_2\u001b[0m\u001b[0;34m\u001b[0m\u001b[0;34m\u001b[0m\u001b[0m\n\u001b[0m",
      "\u001b[0;31mValueError\u001b[0m: operands could not be broadcast together with shapes (3,) (2,) "
     ]
    }
   ],
   "source": [
    "## INSERT CODE HERE\n",
    "arr_1 = np.array([1,2,3])\n",
    "arr_2 = np.array([4,5])\n",
    "arr_1 ** arr_2"
   ]
  },
  {
   "cell_type": "markdown",
   "metadata": {},
   "source": [
    "### Other mathematical functions"
   ]
  },
  {
   "cell_type": "markdown",
   "metadata": {},
   "source": [
    "Numpy has a host of built in mathematical functions which also operate element wise. These functions are generally faster than using loops to calculate the value of the function on each element. Let's see this in action by calculating the $\\sin$ of an array using traditional python and also NumPy. We will measure the runtime using the `%%timeit` magic command."
   ]
  },
  {
   "cell_type": "code",
   "execution_count": 46,
   "metadata": {},
   "outputs": [],
   "source": [
    "from math import sin"
   ]
  },
  {
   "cell_type": "code",
   "execution_count": 47,
   "metadata": {},
   "outputs": [
    {
     "name": "stdout",
     "output_type": "stream",
     "text": [
      "1.47 ms ± 125 µs per loop (mean ± std. dev. of 7 runs, 1000 loops each)\n"
     ]
    }
   ],
   "source": [
    "%%timeit\n",
    "\n",
    "vals = [i for i in range(10000)] # Create a list of 10,000 integers starting with 0\n",
    "sin_vals = [sin(i) for i in vals] # Use a for loop to calculate the sin of each integers"
   ]
  },
  {
   "cell_type": "markdown",
   "metadata": {},
   "source": [
    "**NOTE:** The above way of using `for` loop to generate a list is called list comprehension. So this line of code\n",
    "```python\n",
    "numbers = [2*i for i in range(100)]\n",
    "```\n",
    "is equivalent to doing\n",
    "```python\n",
    "numbers = []\n",
    "for i in range(100):\n",
    "    numbers.append(2*i)\n",
    "```\n",
    "Both achieve the same thing, the former is the more \"pythonic\" way."
   ]
  },
  {
   "cell_type": "code",
   "execution_count": 48,
   "metadata": {},
   "outputs": [
    {
     "name": "stdout",
     "output_type": "stream",
     "text": [
      "157 µs ± 2.88 µs per loop (mean ± std. dev. of 7 runs, 10000 loops each)\n"
     ]
    }
   ],
   "source": [
    "%%timeit\n",
    "\n",
    "vals = np.arange(10000)\n",
    "sin_vals = np.sin(vals)"
   ]
  },
  {
   "cell_type": "markdown",
   "metadata": {},
   "source": [
    "As seen above we can use the NumPy `sin` function which takes an array as its input. Almost all common mathematical functions are implemented as native numpy functions. A complete list can be found [here](https://numpy.org/doc/stable/reference/routines.math.html?highlight=mathematical%20functions).\n",
    "   \n",
    "We can see a huge improvement in runtime when using NumPy over barbones Python. This is because NumPy functions (aka `ufuncs`) are implemented in other compiled languages like C or Fortran and made available to be used in Python. Whenever possible it is recommended to use NumPy's inbuilt data structures and functions. These implementations are also called **vectorized** functions. Vectorization is a theme we will visit many times in this tutorial.    \n",
    "\n",
    "\n",
    "**NOTE:** Though they might look very similar Python `lists` are completely different objects than Numpy arrays. `list` is a native Python data type while NumPy arrays are not. Attributes and methods of lists like `.append()` do not work on NumPy arrays and vice versa. Moreover the elements of a list can each be of a different data type, for example\n",
    "```python\n",
    "example_list = [2.0, 1, \"A sentence\"]\n",
    "```\n",
    "is a list which has a `float`, an `int` and a `str` as its element. This is not possible in a NumPy array. All the elements need to be of the same datatype.\n",
    "  \n",
    "### Plotting $\\sin(x)$"
   ]
  },
  {
   "cell_type": "markdown",
   "metadata": {},
   "source": [
    "Let's try this out by plotting $\\sin(x)$ between $0$ and $2\\pi$. The first step is to define a NumPy array for x. (*Hint: Google how to define $\\pi$ using NumPy.*)"
   ]
  },
  {
   "cell_type": "code",
   "execution_count": 49,
   "metadata": {},
   "outputs": [],
   "source": [
    "## INSERT CODE HERE ##\n",
    "x = np.linspace(0, 2.*np.pi)"
   ]
  },
  {
   "cell_type": "markdown",
   "metadata": {},
   "source": [
    "Next, we define the array for $\\sin(x)$."
   ]
  },
  {
   "cell_type": "code",
   "execution_count": 50,
   "metadata": {},
   "outputs": [],
   "source": [
    "## INSERT CODE HERE ##\n",
    "y = np.sin(x)"
   ]
  },
  {
   "cell_type": "markdown",
   "metadata": {},
   "source": [
    "Finally, use the matplotlib skills you learned yesterday to plot! "
   ]
  },
  {
   "cell_type": "code",
   "execution_count": 51,
   "metadata": {},
   "outputs": [
    {
     "data": {
      "text/plain": [
       "[<matplotlib.lines.Line2D at 0x7fb14d576eb0>]"
      ]
     },
     "execution_count": 51,
     "metadata": {},
     "output_type": "execute_result"
    },
    {
     "data": {
      "image/png": "[encoded data removed]",
      "text/plain": [
       "<Figure size 432x288 with 1 Axes>"
      ]
     },
     "metadata": {
      "needs_background": "light"
     },
     "output_type": "display_data"
    }
   ],
   "source": [
    "## INSERT CODE HERE ##\n",
    "import matplotlib.pyplot as plt\n",
    "plt.figure()\n",
    "plt.ylabel(r'$\\sin(x)$')\n",
    "plt.xlabel(r'$x$')\n",
    "plt.plot(x,y)"
   ]
  },
  {
   "cell_type": "markdown",
   "metadata": {},
   "source": [
    "### Array Methods\n",
    "Like all other data structures in Python, NumPy arrays are objects. These objects have methods associated with them.   \n",
    "Recall that methods are just like functions but are associated with an object. Whereas functions take an object as an input and return another object as the output, methods act on the object they are associated with and may alter the object itself. Here's an example, the `array.sum()` **method** returns the sum of all the elements of the array. The `np.sum()` **function** takes an array as its input and returns the sum of its elements as outputs. Both do the same thing but are accessed in different ways. A complete lists of methods and attributes associated with any NumPy array can be found [here](https://docs.scipy.org/doc/numpy/reference/generated/numpy.ndarray.html)"
   ]
  },
  {
   "cell_type": "code",
   "execution_count": 52,
   "metadata": {},
   "outputs": [
    {
     "data": {
      "text/plain": [
       "6"
      ]
     },
     "execution_count": 52,
     "metadata": {},
     "output_type": "execute_result"
    }
   ],
   "source": [
    "pos_1.sum()"
   ]
  },
  {
   "cell_type": "code",
   "execution_count": 53,
   "metadata": {},
   "outputs": [
    {
     "data": {
      "text/plain": [
       "6"
      ]
     },
     "execution_count": 53,
     "metadata": {},
     "output_type": "execute_result"
    }
   ],
   "source": [
    "np.sum(pos_1)"
   ]
  },
  {
   "cell_type": "markdown",
   "metadata": {},
   "source": [
    "## Plotting the galaxy luminosity function"
   ]
  },
  {
   "cell_type": "markdown",
   "metadata": {},
   "source": [
    "The number density of galaxies having a given luminosity $(\\Phi(L))$ is found to follow the functional form\n",
    "$$ \\Phi(L)=\\left( \\dfrac{\\Phi^*}{L^*} \\right) \\left( \\dfrac{L}{L^*} \\right)^{\\alpha}10^{\\left(-\\dfrac{L}{L^*}\\right)}$$\n",
    "\n",
    "Assuming the normalization constant $\\left( \\dfrac{\\Phi^*}{L^*} \\right)$ to be unity and $\\alpha = -1.5, -1.0 \\text{ and} -0.5$,  plot $\\log(\\Phi(L))$ versus $\\dfrac{L}{L^*}$. Follow these steps:"
   ]
  },
  {
   "cell_type": "markdown",
   "metadata": {},
   "source": [
    "Take a look at the documentation for `np.logspace`. Generate the $x$ axis (i.e.$\\dfrac{L}{L^*}$ ) as a logarithmically spaced grid of 50 data points between $10^{-2}$ and $10$."
   ]
  },
  {
   "cell_type": "code",
   "execution_count": 54,
   "metadata": {},
   "outputs": [],
   "source": [
    "## INSERT CODE HERE ##\n",
    "l = np.logspace(-2,1,50)"
   ]
  },
  {
   "cell_type": "markdown",
   "metadata": {},
   "source": [
    "Use NumPy functions and binary operations on the above array to generate the y axis (i.e. $\\log(\\Phi(L))$). The function to take the logarithm with a base 10 in numpy is `np.log10` whereas the function to take the natural logarithm is `np.log`.   \n",
    "\n",
    "Since we are doing the same operation thrice for different input parameters, it is really helpful to define a function. "
   ]
  },
  {
   "cell_type": "code",
   "execution_count": 55,
   "metadata": {},
   "outputs": [],
   "source": [
    "def log_phi(l, alpha):\n",
    "    \"\"\"\n",
    "    Function to calculate the log of luminosity function\n",
    "    \n",
    "    Arguments:\n",
    "    l (array): Values of L/L^star\n",
    "    alpha (float): Faint end slope parameter\n",
    "    \n",
    "    Returns:\n",
    "    array: The log of the luminosity function\n",
    "    \"\"\"\n",
    "    \n",
    "    # COMPLETE THESE THREE LINES OF CODE\n",
    "    phi = l**alpha * 10**-l\n",
    "    log_phi = np.log10(phi)\n",
    "    \n",
    "    return log_phi"
   ]
  },
  {
   "cell_type": "markdown",
   "metadata": {},
   "source": [
    "**NOTE:** The chunk of commented text following the function definition is called a docstring. It is a good practice to always add a doctring whenever you define a function and intend to reuse it.\n",
    "\n",
    "The following is an example of a very basic docstring. \n",
    "\n",
    "```python\n",
    "def a_generic_function(input1, input2):\n",
    "    \"\"\"\n",
    "    This is what the funtion does\n",
    "    \n",
    "    Arguments:\n",
    "    input1 (data_type): Meaning of the input\n",
    "    \n",
    "    \n",
    "    Returns\n",
    "    data_type: Meaning of the return value\n",
    "    \n",
    "    \"\"\"\n",
    "    \n",
    "    return something\n",
    "```\n",
    "\n",
    "There are multiple formatting schemes for doctsrings. The one followed by the Scientific Python community can be found [here](https://docs.scipy.org/doc/numpy/docs/howto_document.html).  \n",
    "\n",
    "This docstring can be accessed using the usual methods of accessing the documentation for any function imported from a library. Access the docstring for the function we defined in the previous cell:"
   ]
  },
  {
   "cell_type": "code",
   "execution_count": 56,
   "metadata": {},
   "outputs": [
    {
     "data": {
      "text/plain": [
       "<function __main__.log_phi(l, alpha)>"
      ]
     },
     "execution_count": 56,
     "metadata": {},
     "output_type": "execute_result"
    }
   ],
   "source": [
    "log_phi                       # COMPLETE THIS LINE OF CODE"
   ]
  },
  {
   "cell_type": "code",
   "execution_count": 57,
   "metadata": {},
   "outputs": [
    {
     "data": {
      "text/plain": [
       "<matplotlib.legend.Legend at 0x7fb14d4db580>"
      ]
     },
     "execution_count": 57,
     "metadata": {},
     "output_type": "execute_result"
    },
    {
     "data": {
      "image/png": "[encoded data removed]",
      "text/plain": [
       "<Figure size 720x432 with 1 Axes>"
      ]
     },
     "metadata": {
      "needs_background": "light"
     },
     "output_type": "display_data"
    }
   ],
   "source": [
    "import matplotlib.pyplot as plt\n",
    "plt.figure(figsize=(10,6))\n",
    "\n",
    "\n",
    "# COMPLETE THESE THREE LINES OF CODE\n",
    "\n",
    "plt.plot(l,log_phi(l, -1.5),label=r\"$\\alpha=-1.5$\") # for alpha = -1.5\n",
    "plt.plot(l, log_phi(l, -1.0),label=r\"$\\alpha=-1.0$\") # for alpha = -1.0\n",
    "plt.plot(l, log_phi(l, -0.5),label=r\"$\\alpha=-0.5$\") # for alpha = -0.5\n",
    "\n",
    "\n",
    "\n",
    "plt.xlabel(r\"$\\dfrac{L}{L^{\\star}}$\", fontsize=20) # Print the x label in latex\n",
    "plt.ylabel(r\"$\\log(\\Phi(L))$\", fontsize=20) # Print the x label in latex\n",
    "plt.xscale(\"log\") # Set the spacing in the x axis logarithmically\n",
    "plt.legend()"
   ]
  }
 ],
 "metadata": {
  "kernelspec": {
   "display_name": "Python 3 (ipykernel)",
   "language": "python",
   "name": "python3"
  },
  "language_info": {
   "codemirror_mode": {
    "name": "ipython",
    "version": 3
   },
   "file_extension": ".py",
   "mimetype": "text/x-python",
   "name": "python",
   "nbconvert_exporter": "python",
   "pygments_lexer": "ipython3",
   "version": "3.9.7"
  }
 },
 "nbformat": 4,
 "nbformat_minor": 4
}
