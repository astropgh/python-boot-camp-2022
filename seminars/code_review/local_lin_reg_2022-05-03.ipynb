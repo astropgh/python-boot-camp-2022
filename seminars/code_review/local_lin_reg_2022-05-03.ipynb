{
 "cells": [
  {
   "cell_type": "code",
   "execution_count": 1,
   "metadata": {},
   "outputs": [],
   "source": [
    "from astropy.io import fits  # Not used\n",
    "from astropy.table import Table\n",
    "import numpy as np\n",
    "import pylab as plt  # import matplotlib.pyplot as plt   https://stackoverflow.com/questions/16849483/which-is-the-recommended-way-to-plot-matplotlib-or-pylab\n",
    "import random  # use np.random  https://stackoverflow.com/questions/57220804/performance-difference-between-numpy-random-and-random-random-in-python\n",
    "from scipy import stats"
   ]
  },
  {
   "cell_type": "code",
   "execution_count": 2,
   "metadata": {},
   "outputs": [],
   "source": [
    "## DATA ##\n",
    "\n",
    "# from pathlib import Path\n",
    "\n",
    "file_path = \"/project/projectdirs/desi/spectro/fastspecfit/everest/catalogs/fastspec-everest-main-bright.fits\"\n",
    "data=Table.read(file_path,hdu=1)\n",
    "#data"
   ]
  },
  {
   "cell_type": "code",
   "execution_count": 3,
   "metadata": {},
   "outputs": [],
   "source": [
    "N=data[\"TARGETID\"].size  # python is case-sensitive but single character variable names are discouraged https://learnpython.com/blog/python-case-sensitive/\n",
    "snr=np.zeros(N)\n",
    "for i in range(N):  # Vectorize\n",
    "    snr[i]=data[\"HALPHA_EW\"][i]*np.sqrt(data[\"HALPHA_EW_IVAR\"][i]) "
   ]
  },
  {
   "cell_type": "code",
   "execution_count": 2,
   "metadata": {},
   "outputs": [
    {
     "data": {
      "text/plain": [
       "(0.0, 2000.0)"
      ]
     },
     "execution_count": 2,
     "metadata": {},
     "output_type": "execute_result"
    },
    {
     "data": {
      "image/png": "[encoded data removed]",
      "text/plain": [
       "<Figure size 432x288 with 1 Axes>"
      ]
     },
     "metadata": {
      "image/png": {
       "height": 248,
       "width": 386
      },
      "needs_background": "light"
     },
     "output_type": "display_data"
    }
   ],
   "source": [
    "plt.plot(data[\"HALPHA_EW\"],1/np.sqrt(data[\"HALPHA_EW_IVAR\"]),'*',alpha=0.1)  # mpl-scatter-density\n",
    "plt.xlim((-1000,1000))  # extra parentheses\n",
    "plt.ylim((0,2000))"
   ]
  },
  {
   "cell_type": "code",
   "execution_count": 14,
   "metadata": {},
   "outputs": [
    {
     "name": "stdout",
     "output_type": "stream",
     "text": [
      "684652\n"
     ]
    }
   ],
   "source": [
    "## getting good data of size n\n",
    "file_path = \"/project/projectdirs/desi/spectro/fastspecfit/everest/catalogs/fastphot-everest-main-bright.fits\"\n",
    "data2=Table.read(file_path,hdu=1)\n",
    "n=5*10**3  # lowercase and uppercase n are unique variables\n",
    "positions=[]\n",
    "for i in range(N):  # vectorize\n",
    "    k=0\n",
    "    if data[\"HALPHA_EW\"][i]<=5 or snr[i]<=20:\n",
    "        k+=1\n",
    "    if data2[\"KCORR_SDSS_U\"][i]==0:\n",
    "        k+=1\n",
    "    if k==0:\n",
    "        positions.append(i)\n",
    "print(len(positions))\n",
    "\n",
    "# Vectorized version\n",
    "# positions = np.ones(N, dtype=bool)\n",
    "# positions[data[\"HALPHA_EW\"][i] <= 5 or snr[i] <= 20] = False\n",
    "# positions[data2[\"KCORR_SDSS_U\"] == 0] = False\n",
    "\n",
    "\n",
    "#magnitude_names=[\"FLUX_SYNTH_MODEL_G\",\"FLUX_SYNTH_MODEL_R\",\"FLUX_SYNTH_MODEL_Z\",\"FLUX_SYNTH_MODEL_W1\",\"FLUX_SYNTH_MODEL_W2\"]\n",
    "magnitude_names=[\"KCORR_SDSS_U\",\"KCORR_SDSS_G\",\"KCORR_SDSS_R\",\"KCORR_SDSS_I\",\"KCORR_SDSS_Z\"]\n",
    "#jj=random.sample(range(0,len(positions)),n)\n",
    "jj=np.arange(n)\n",
    "EW=np.zeros(n)\n",
    "magnitudes=np.zeros([n,len(magnitude_names)])\n",
    "\n",
    "for i in range(n):  # vectorize\n",
    "    EW[i]=np.log10(data[\"HALPHA_EW\"][positions[jj[i]]])\n",
    "    for j in range(len(magnitude_names)):\n",
    "        magnitudes[i,j]=data2[magnitude_names[j]][positions[jj[i]]]\n",
    "\n",
    "# pseudocode\n",
    "# EW = np.log10(data[\"HALPHA_EW\"][positions[:n]])\n",
    "# magnitudes = data2[magnitude_names][positions[:n]]\n",
    "\n",
    "\n",
    "# av_mag=np.zeros(len(magnitude_names))\n",
    "# std_mag=np.zeros(len(magnitude_names))\n",
    "# for j in range(len(magnitude_names)):\n",
    "#     av_mag[j]=np.average(magnitudes[:,j])\n",
    "#     std_mag[j]=np.std(magnitudes[:,j])\n",
    "#     magnitudes[:,j]=(magnitudes[:,j]-av_mag[j])/std_mag[j]"
   ]
  },
  {
   "cell_type": "code",
   "execution_count": 30,
   "metadata": {},
   "outputs": [
    {
     "name": "stdout",
     "output_type": "stream",
     "text": [
      "5000\n"
     ]
    }
   ],
   "source": [
    "## doing local linear regression\n",
    "ones=np.ones([n,1])\n",
    "#x=np.concatenate((ones,magnitudes),axis=1)\n",
    "x=np.zeros([n,len(magnitude_names)-1])\n",
    "for i in range(n):\n",
    "    for j in range(len(magnitude_names)-1):\n",
    "        x[i,j]=magnitudes[i,j]-magnitudes[i,j+1]  # np.diff  https://numpy.org/doc/stable/reference/generated/numpy.diff.html\n",
    "x=np.concatenate((ones,x),axis=1)\n",
    "av_x=np.zeros(x.shape[1]-1)\n",
    "std_x=np.zeros(x.shape[1]-1)\n",
    "for i in range(1,x.shape[1]):\n",
    "    av_x[i-1]=np.average(x[:,i])  # vectorize\n",
    "    std_x[i-1]=np.std(x[:,i])  # vectorize\n",
    "    x[:,i]=(x[:,i]-av_x[i-1])/std_x[i-1]  # vectorize\n",
    "theta=[]\n",
    "i_working=[]\n",
    "nl=30 # nearest neighbor number\n",
    "w_nearest=np.zeros(n)\n",
    "w_nl=np.zeros(n)\n",
    "for i in range(n):  # compute distances once w/scikit-learn https://scikit-learn.org/stable/modules/generated/sklearn.metrics.pairwise_distances.html\n",
    "    w=np.zeros(n)\n",
    "    for j in range(n):\n",
    "        if j!=i:\n",
    "            distance=np.linalg.norm(x[i,:]-x[j,:])**2\n",
    "            w[j]=1/distance\n",
    "            if 1/distance!=1/distance:\n",
    "                print(i,j)\n",
    "    w[i]=max(w)\n",
    "    w_sorted=np.sort(w)  # combine with next line\n",
    "    w_sorted = w_sorted[::-1]\n",
    "    positions_nbrs=np.argsort(w)  # combine with next line\n",
    "    positions_nbrs=positions_nbrs[::-1]\n",
    "    w_nearest[i]=w_sorted[0]\n",
    "    w_nl[i]=w_sorted[nl-1]\n",
    "    # if w_sorted[nl-1]<1:\n",
    "    #     continue \n",
    "    i_working.append(i)\n",
    "    W=np.zeros([nl,nl])\n",
    "    X=np.zeros([nl,x.shape[1]])\n",
    "    Y=np.zeros([nl,1])\n",
    "    for j in range(nl):\n",
    "        #W[j,j]=1\n",
    "        #W[j,j]=np.sqrt(w[positions_nbrs[j]])\n",
    "        W[j,j]=w[positions_nbrs[j]]\n",
    "        X[j,:]=x[positions_nbrs[j],:]\n",
    "        Y[j,:]=EW[positions_nbrs[j]]\n",
    "    a1=np.matmul(X.transpose(),np.matmul(W,Y))\n",
    "    a2=np.matmul(X.transpose(),np.matmul(W,X))\n",
    "    theta1=np.matmul(np.linalg.inv(a2),a1)\n",
    "    theta.append(theta1)\n",
    "    \n",
    "print(len(i_working))\n"
   ]
  },
  {
   "cell_type": "code",
   "execution_count": 7,
   "metadata": {},
   "outputs": [],
   "source": [
    "# np.savetxt(\"w_nearest_mag.txt\",w_nearest,delimiter=',')\n",
    "# np.savetxt(\"w_nl_mag.txt\",w_nl,delimiter=',')\n"
   ]
  },
  {
   "cell_type": "code",
   "execution_count": 31,
   "metadata": {},
   "outputs": [
    {
     "name": "stdout",
     "output_type": "stream",
     "text": [
      "0.8786569598548228 0.8748520988870804 0.16472789175045746\n"
     ]
    },
    {
     "data": {
      "image/png": "[encoded data removed]",
      "text/plain": [
       "<Figure size 432x288 with 1 Axes>"
      ]
     },
     "metadata": {
      "needs_background": "light"
     },
     "output_type": "display_data"
    }
   ],
   "source": [
    "## plotting EWs\n",
    "\n",
    "n_used=len(i_working)\n",
    "EW_test=np.zeros(n_used)\n",
    "EW_used=np.zeros(n_used)\n",
    "for i in range(n_used):\n",
    "    EW_test[i]=np.matmul(theta[i].transpose(),x[i_working[i],:])\n",
    "    EW_used[i]=EW[i_working[i]]\n",
    "\n",
    "\n",
    "plt.plot(EW_test,EW_used,'*',alpha=0.05)\n",
    "plt.plot(np.arange(0,4,0.1),np.arange(0,4,0.1))\n",
    "plt.xlabel(\"log10(EW_fit)\")\n",
    "plt.ylabel(\"log10(EW_obs)\")\n",
    "# plt.xlim((0,4))\n",
    "# plt.ylim((0,4))\n",
    "std=np.std(EW_used)\n",
    "std_test=np.std(EW_test)\n",
    "av=np.average(EW_used)\n",
    "av_test=np.average(EW_test)\n",
    "r=0\n",
    "rms=0\n",
    "for i in range(n_used):\n",
    "    r+=(EW_used[i]-av)*(EW_test[i]-av_test)/(n_used**1*std*std_test)\n",
    "    rms+=(EW_used[i]-EW_test[i])**2/n_used\n",
    "rms=np.sqrt(rms)\n",
    "spearman=stats.spearmanr(EW_test,EW_used)\n",
    "print(r,spearman[0],rms)"
   ]
  },
  {
   "cell_type": "code",
   "execution_count": 32,
   "metadata": {},
   "outputs": [],
   "source": [
    "np.savetxt(\"EW_test_distance_squared.txt\",EW_test,delimiter=',')\n",
    "np.savetxt(\"EW_used_distance_squared.txt\",EW_used,delimiter=',')"
   ]
  },
  {
   "cell_type": "code",
   "execution_count": 10,
   "metadata": {},
   "outputs": [
    {
     "name": "stdout",
     "output_type": "stream",
     "text": [
      "0.9589183210232758\n",
      "[ 1.         -1.85451164  0.60808331  0.86306596 -1.31543676]\n"
     ]
    },
    {
     "data": {
      "text/plain": [
       "[<matplotlib.lines.Line2D at 0x15541d9890d0>]"
      ]
     },
     "execution_count": 10,
     "metadata": {},
     "output_type": "execute_result"
    },
    {
     "data": {
      "image/png": "[encoded data removed]",
      "text/plain": [
       "<Figure size 432x288 with 1 Axes>"
      ]
     },
     "metadata": {
      "needs_background": "light"
     },
     "output_type": "display_data"
    }
   ],
   "source": [
    "## These are all some testing I did for debugging etc.\n",
    "\n",
    "i=182\n",
    "print(EW_test[i])\n",
    "print(x[i,:])\n",
    "\n",
    "w=[]\n",
    "for j in range(n):\n",
    "    if j!=i:\n",
    "        distance=np.linalg.norm(x[i,:]-x[j,:])**2\n",
    "        w.append(1/distance)\n",
    "w_sorted=np.array(w)\n",
    "w_sorted=np.sort(w_sorted)\n",
    "w_sorted = w_sorted[::-1]\n",
    "positions_nbrs=np.zeros(nl,int)\n",
    "W=np.zeros([nl,nl])\n",
    "X=np.zeros([nl,x.shape[1]])\n",
    "Y=np.zeros([nl,1])\n",
    "for j in range(nl):\n",
    "    positions_nbrs[j]=np.where(w==w_sorted[j])[0][0]\n",
    "    W[j,j]=w[positions_nbrs[j]]\n",
    "    X[j,:]=x[positions_nbrs[j],:]\n",
    "    Y[j,:]=EW[positions_nbrs[j]]\n",
    "a1=np.matmul(X.transpose(),np.matmul(W,Y))\n",
    "a2=np.matmul(X.transpose(),np.matmul(W,X))\n",
    "theta1=np.matmul(np.linalg.inv(a2),a1)\n",
    "\n",
    "plt.figure(1)\n",
    "plt.plot(w_sorted[:],'*')"
   ]
  },
  {
   "cell_type": "code",
   "execution_count": 11,
   "metadata": {},
   "outputs": [
    {
     "data": {
      "text/plain": [
       "[<matplotlib.lines.Line2D at 0x15541d957370>]"
      ]
     },
     "execution_count": 11,
     "metadata": {},
     "output_type": "execute_result"
    },
    {
     "data": {
      "image/png": "[encoded data removed]",
      "text/plain": [
       "<Figure size 432x288 with 1 Axes>"
      ]
     },
     "metadata": {
      "needs_background": "light"
     },
     "output_type": "display_data"
    }
   ],
   "source": [
    "plt.plot(w_sorted,'*')"
   ]
  },
  {
   "cell_type": "code",
   "execution_count": null,
   "metadata": {},
   "outputs": [],
   "source": []
  }
 ],
 "metadata": {
  "kernelspec": {
   "display_name": "Python 3",
   "language": "python",
   "name": "python3"
  },
  "language_info": {
   "codemirror_mode": {
    "name": "ipython",
    "version": 3
   },
   "file_extension": ".py",
   "mimetype": "text/x-python",
   "name": "python",
   "nbconvert_exporter": "python",
   "pygments_lexer": "ipython3",
   "version": "3.8.5"
  }
 },
 "nbformat": 4,
 "nbformat_minor": 5
}
